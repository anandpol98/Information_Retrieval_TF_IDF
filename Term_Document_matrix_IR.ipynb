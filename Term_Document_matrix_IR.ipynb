{
  "nbformat": 4,
  "nbformat_minor": 0,
  "metadata": {
    "colab": {
      "name": "IR_Asg2.ipynb",
      "provenance": [],
      "collapsed_sections": [],
      "toc_visible": true,
      "authorship_tag": "ABX9TyOTwO0hwQa6D9iaYvXQyr1n",
      "include_colab_link": true
    },
    "kernelspec": {
      "display_name": "Python 3",
      "name": "python3"
    }
  },
  "cells": [
    {
      "cell_type": "markdown",
      "metadata": {
        "id": "view-in-github",
        "colab_type": "text"
      },
      "source": [
        "<a href=\"https://colab.research.google.com/github/anandpol98/Information_Retrieval_TF_IDF/blob/main/Term_Document_matrix_IR.ipynb\" target=\"_parent\"><img src=\"https://colab.research.google.com/assets/colab-badge.svg\" alt=\"Open In Colab\"/></a>"
      ]
    },
    {
      "cell_type": "markdown",
      "metadata": {
        "id": "9lcBA55TuUfS"
      },
      "source": [
        "# Mounting Google Drive"
      ]
    },
    {
      "cell_type": "code",
      "metadata": {
        "colab": {
          "base_uri": "https://localhost:8080/"
        },
        "id": "MYKiS7fSuRtN",
        "outputId": "80c05f5f-51f0-45ed-d7bc-57891aa63bca"
      },
      "source": [
        "from google.colab import drive\n",
        "drive.mount('/content/drive')"
      ],
      "execution_count": 1,
      "outputs": [
        {
          "output_type": "stream",
          "text": [
            "Mounted at /content/drive\n"
          ],
          "name": "stdout"
        }
      ]
    },
    {
      "cell_type": "markdown",
      "metadata": {
        "id": "kLbjsDqVuYPR"
      },
      "source": [
        "# Unzipping Business Document"
      ]
    },
    {
      "cell_type": "code",
      "metadata": {
        "colab": {
          "base_uri": "https://localhost:8080/"
        },
        "id": "f59EbYKmw888",
        "outputId": "0ce7d2a1-6ff8-4ac7-fcf7-535a147cdb68"
      },
      "source": [
        "!unzip \"/content/drive/MyDrive/business.zip\" -d \"/content/\""
      ],
      "execution_count": 2,
      "outputs": [
        {
          "output_type": "stream",
          "text": [
            "Archive:  /content/drive/MyDrive/business.zip\n"
          ],
          "name": "stdout"
        }
      ]
    },
    {
      "cell_type": "markdown",
      "metadata": {
        "id": "vinfoEfzyCbb"
      },
      "source": [
        "# Importing Libraries"
      ]
    },
    {
      "cell_type": "code",
      "metadata": {
        "colab": {
          "base_uri": "https://localhost:8080/"
        },
        "id": "dPidLeHCxU09",
        "outputId": "b6e5297a-7b3a-47a2-b278-9be5659ddd2a"
      },
      "source": [
        "import os,re,math\r\n",
        "import numpy as np\r\n",
        "import pandas as pd\r\n",
        "from bs4 import BeautifulSoup\r\n",
        "import nltk\r\n",
        "from nltk.tokenize import word_tokenize\r\n",
        "nltk.download('stopwords')\r\n",
        "nltk.download('punkt')\r\n",
        "nltk.download('wordnet')"
      ],
      "execution_count": 3,
      "outputs": [
        {
          "output_type": "stream",
          "text": [
            "[nltk_data] Downloading package stopwords to /root/nltk_data...\n",
            "[nltk_data]   Unzipping corpora/stopwords.zip.\n",
            "[nltk_data] Downloading package punkt to /root/nltk_data...\n",
            "[nltk_data]   Unzipping tokenizers/punkt.zip.\n",
            "[nltk_data] Downloading package wordnet to /root/nltk_data...\n",
            "[nltk_data]   Unzipping corpora/wordnet.zip.\n"
          ],
          "name": "stdout"
        },
        {
          "output_type": "execute_result",
          "data": {
            "text/plain": [
              "True"
            ]
          },
          "metadata": {
            "tags": []
          },
          "execution_count": 3
        }
      ]
    },
    {
      "cell_type": "markdown",
      "metadata": {
        "id": "kGUxNrDpyHce"
      },
      "source": [
        "#Funtions for Preprocessing text"
      ]
    },
    {
      "cell_type": "markdown",
      "metadata": {
        "id": "azb2MANJudwh"
      },
      "source": [
        "This cell has all functions for preprocessing text\r\n",
        "\r\n",
        "*   Remove Punctuations/Numbers\r\n",
        "*   Tokenization using NLTK library\r\n",
        "*   Remove Stopwords\r\n",
        "*   Lemmatization\r\n",
        "\r\n",
        "\r\n",
        "\r\n"
      ]
    },
    {
      "cell_type": "code",
      "metadata": {
        "id": "EkvpKGWryKB_"
      },
      "source": [
        "\r\n",
        "# removing Puntuation\r\n",
        "\r\n",
        "def remove_punc(data):\r\n",
        "  return re.sub('[!\\\"#$%&\\'()*+,-./:;<=>?@[\\]^_`{|}~0-9\\n]','',data) \r\n",
        "\r\n",
        "\r\n",
        "# Tokenization using NLTK library\r\n",
        "\r\n",
        "def tokenization(data):\r\n",
        "  return word_tokenize(data)\r\n",
        "\r\n",
        "\r\n",
        "\r\n",
        "# remove Stopwords\r\n",
        "\r\n",
        "def remove_stopwards(tokens):\r\n",
        "  \r\n",
        "  from nltk.corpus import stopwords\r\n",
        "  lst = stopwords.words('english');\r\n",
        "  count=0\r\n",
        "  mini=float('inf') \r\n",
        "  while(count<mini):\r\n",
        "    for i in tokens:\r\n",
        "      count = count +1   \r\n",
        "      if i in lst:\r\n",
        "        tokens.remove(i) \r\n",
        "    if count==mini:\r\n",
        "      break;\r\n",
        "    else:\r\n",
        "      mini=count  \r\n",
        "      count = 0    \r\n",
        "  return tokens     \r\n",
        "\r\n",
        "\r\n",
        "\r\n",
        "# Stemming using Lemmatization\r\n",
        "\r\n",
        "def lemmatization(tokens):\r\n",
        "  stem_lemma = []\r\n",
        "  from nltk.stem import WordNetLemmatizer\r\n",
        "  lemmatizer = WordNetLemmatizer()\r\n",
        "  for word in tokens:\r\n",
        "    stem_lemma.append(lemmatizer.lemmatize(word,pos='v'))\r\n",
        "  return stem_lemma"
      ],
      "execution_count": 4,
      "outputs": []
    },
    {
      "cell_type": "markdown",
      "metadata": {
        "id": "MMNNteYou046"
      },
      "source": [
        "# Removing business_index files from set of documents"
      ]
    },
    {
      "cell_type": "code",
      "metadata": {
        "colab": {
          "base_uri": "https://localhost:8080/"
        },
        "id": "4ShoC4FDVchy",
        "outputId": "5a15da94-ce7a-4bc5-9702-5e719e3bd899"
      },
      "source": [
        "# Removing Index files\r\n",
        "\r\n",
        "files = sorted(os.listdir('/content/business'))\r\n",
        "lst = re.findall('[0-9]*_business_index.utf8',str(files));\r\n",
        "for i in lst:\r\n",
        "  files.remove(i)\r\n",
        "print(\"File names are as follows : \\n\",files)"
      ],
      "execution_count": 5,
      "outputs": [
        {
          "output_type": "stream",
          "text": [
            "File names are as follows : \n",
            " ['1040901_business_story_3700171.utf8', '1040901_business_story_3700827.utf8', '1040901_business_story_3701515.utf8', '1040901_business_story_3701518.utf8', '1040901_business_story_3701887.utf8', '1040901_business_story_3701938.utf8', '1040901_business_story_3701940.utf8', '1040901_business_story_3702060.utf8', '1040901_business_story_3702108.utf8', '1040901_business_story_3702110.utf8', '1040901_business_story_3702411.utf8', '1040901_business_story_3702412.utf8', '1040901_business_story_3702413.utf8', '1040901_business_story_3702414.utf8', '1040901_business_story_3702420.utf8', '1040901_business_story_3702421.utf8', '1040901_business_story_3702422.utf8', '1040901_business_story_3702623.utf8', '1040902_business_story_3705362.utf8', '1040902_business_story_3705899.utf8', '1040902_business_story_3706166.utf8', '1040902_business_story_3706168.utf8', '1040902_business_story_3706356.utf8', '1040902_business_story_3706527.utf8', '1040902_business_story_3706528.utf8', '1040902_business_story_3706615.utf8', '1040902_business_story_3706690.utf8', '1040902_business_story_3706891.utf8', '1040902_business_story_3706943.utf8', '1040902_business_story_3707176.utf8', '1040902_business_story_3707177.utf8', '1040902_business_story_3707178.utf8', '1040902_business_story_3707179.utf8', '1040902_business_story_3707180.utf8', '1040902_business_story_3707181.utf8', '1040902_business_story_3707182.utf8', '1040902_business_story_3707188.utf8', '1040902_business_story_3707189.utf8', '1040902_business_story_3707289.utf8', '1040902_business_story_3707339.utf8', '1040902_business_story_3707437.utf8', '1040903_business_story_3706259.utf8', '1040903_business_story_3709584.utf8', '1040903_business_story_3709590.utf8', '1040903_business_story_3710560.utf8', '1040903_business_story_3710746.utf8', '1040903_business_story_3711439.utf8', '1040903_business_story_3711561.utf8', '1040903_business_story_3711562.utf8', '1040903_business_story_3711563.utf8', '1040903_business_story_3711564.utf8', '1040903_business_story_3711675.utf8', '1040903_business_story_3711681.utf8', '1040903_business_story_3711682.utf8', '1040903_business_story_3711683.utf8', '1040903_business_story_3711684.utf8', '1040903_business_story_3711685.utf8', '1040903_business_story_3711686.utf8', '1040903_business_story_3711687.utf8', '1040903_business_story_3711843.utf8', '1040903_business_story_3712013.utf8', '1040903_business_story_3712096.utf8', '1040904_business_story_3713767.utf8', '1040904_business_story_3713793.utf8', '1040904_business_story_3714615.utf8', '1040904_business_story_3715745.utf8', '1040904_business_story_3715746.utf8', '1040904_business_story_3715748.utf8', '1040904_business_story_3715911.utf8', '1040904_business_story_3716127.utf8', '1040904_business_story_3716302.utf8', '1040904_business_story_3716304.utf8', '1040904_business_story_3716305.utf8', '1040904_business_story_3716306.utf8', '1040904_business_story_3716307.utf8', '1040904_business_story_3716308.utf8', '1040904_business_story_3716315.utf8', '1040904_business_story_3716333.utf8', '1040904_business_story_3716463.utf8', '1040904_business_story_3716544.utf8', '1040904_business_story_3716545.utf8', '1040904_business_story_3716546.utf8', '1040905_business_story_3696303.utf8', '1040905_business_story_3700868.utf8', '1040905_business_story_3713920.utf8', '1040905_business_story_3717983.utf8', '1040905_business_story_3718365.utf8', '1040905_business_story_3720105.utf8', '1040905_business_story_3720106.utf8', '1040905_business_story_3720107.utf8', '1040905_business_story_3720108.utf8', '1040905_business_story_3720109.utf8', '1040906_business_story_3722578.utf8', '1040906_business_story_3722579.utf8', '1040906_business_story_3722580.utf8', '1040906_business_story_3722832.utf8', '1040906_business_story_3722833.utf8', '1040906_business_story_3722834.utf8', '1040906_business_story_3722835.utf8', '1040906_business_story_3723027.utf8', '1040906_business_story_3723028.utf8', '1040906_business_story_3723029.utf8', '1040906_business_story_3723030.utf8', '1040906_business_story_3723031.utf8', '1040906_business_story_3723032.utf8', '1040906_business_story_3723033.utf8', '1040907_business_story_3724858.utf8', '1040907_business_story_3725087.utf8', '1040907_business_story_3725092.utf8', '1040907_business_story_3725187.utf8', '1040907_business_story_3726011.utf8', '1040907_business_story_3726144.utf8', '1040907_business_story_3726316.utf8', '1040907_business_story_3726473.utf8', '1040907_business_story_3726474.utf8', '1040907_business_story_3726753.utf8', '1040907_business_story_3726766.utf8', '1040907_business_story_3726787.utf8', '1040907_business_story_3726827.utf8', '1040907_business_story_3726828.utf8', '1040907_business_story_3726829.utf8', '1040907_business_story_3726831.utf8', '1040907_business_story_3726832.utf8', '1040907_business_story_3726833.utf8', '1040907_business_story_3726834.utf8', '1040908_business_story_3728774.utf8', '1040908_business_story_3729361.utf8', '1040908_business_story_3729928.utf8', '1040908_business_story_3729930.utf8', '1040908_business_story_3730124.utf8', '1040908_business_story_3730335.utf8', '1040908_business_story_3730471.utf8', '1040908_business_story_3730724.utf8', '1040908_business_story_3730847.utf8', '1040908_business_story_3730899.utf8', '1040908_business_story_3730900.utf8', '1040908_business_story_3730901.utf8', '1040908_business_story_3730902.utf8', '1040908_business_story_3730903.utf8', '1040908_business_story_3730905.utf8', '1040908_business_story_3730906.utf8', '1040908_business_story_3730907.utf8', '1040908_business_story_3730908.utf8', '1040908_business_story_3731040.utf8', '1040908_business_story_3731413.utf8', '1040909_business_story_3729387.utf8', '1040909_business_story_3733762.utf8', '1040909_business_story_3734634.utf8', '1040909_business_story_3734646.utf8', '1040909_business_story_3734735.utf8', '1040909_business_story_3734754.utf8', '1040909_business_story_3735040.utf8', '1040909_business_story_3735238.utf8', '1040909_business_story_3735239.utf8', '1040909_business_story_3735295.utf8', '1040909_business_story_3735396.utf8', '1040909_business_story_3735419.utf8', '1040909_business_story_3735420.utf8', '1040909_business_story_3735421.utf8', '1040909_business_story_3735422.utf8', '1040909_business_story_3735428.utf8', '1040909_business_story_3735429.utf8', '1040909_business_story_3737034.utf8', '1040910_business_story_3737971.utf8', '1040910_business_story_3738475.utf8', '1040910_business_story_3738937.utf8', '1040910_business_story_3739463.utf8', '1040910_business_story_3739783.utf8', '1040910_business_story_3740035.utf8', '1040910_business_story_3740171.utf8', '1040910_business_story_3740172.utf8', '1040910_business_story_3740173.utf8', '1040910_business_story_3740253.utf8', '1040910_business_story_3740412.utf8', '1040910_business_story_3740414.utf8', '1040910_business_story_3740415.utf8', '1040910_business_story_3740416.utf8', '1040910_business_story_3740417.utf8', '1040910_business_story_3740418.utf8', '1040910_business_story_3740439.utf8', '1040910_business_story_3740797.utf8', '1040910_business_story_3741601.utf8', '1040911_business_story_3742552.utf8', '1040911_business_story_3743048.utf8', '1040911_business_story_3743697.utf8', '1040911_business_story_3743779.utf8', '1040911_business_story_3744089.utf8', '1040911_business_story_3744258.utf8', '1040911_business_story_3744300.utf8', '1040911_business_story_3744317.utf8', '1040911_business_story_3744332.utf8', '1040911_business_story_3744556.utf8', '1040911_business_story_3744557.utf8', '1040911_business_story_3744558.utf8', '1040911_business_story_3744559.utf8', '1040911_business_story_3744560.utf8', '1040911_business_story_3744561.utf8', '1040911_business_story_3744567.utf8', '1040911_business_story_3744586.utf8', '1040911_business_story_3744632.utf8', '1040911_business_story_3745198.utf8', '1040912_business_story_3747845.utf8', '1040912_business_story_3747846.utf8', '1040912_business_story_3747847.utf8', '1040912_business_story_3747852.utf8', '1040912_business_story_3747853.utf8', '1040912_business_story_3747854.utf8', '1040912_business_story_3747855.utf8', '1040912_business_story_3747856.utf8', '1040912_business_story_3748350.utf8', '1040913_business_story_3748322.utf8', '1040913_business_story_3748323.utf8', '1040913_business_story_3748325.utf8', '1040913_business_story_3750869.utf8', '1040913_business_story_3750870.utf8', '1040913_business_story_3750871.utf8', '1040913_business_story_3750872.utf8', '1040913_business_story_3750902.utf8', '1040913_business_story_3750903.utf8', '1040913_business_story_3750904.utf8', '1040913_business_story_3750905.utf8', '1040913_business_story_3750906.utf8', '1040913_business_story_3750907.utf8', '1040913_business_story_3750908.utf8', '1040913_business_story_3751947.utf8', '1040914_business_story_3752859.utf8', '1040914_business_story_3753274.utf8', '1040914_business_story_3754211.utf8', '1040914_business_story_3754395.utf8', '1040914_business_story_3754398.utf8', '1040914_business_story_3754715.utf8', '1040914_business_story_3754748.utf8', '1040914_business_story_3754845.utf8', '1040914_business_story_3754898.utf8', '1040914_business_story_3754906.utf8', '1040914_business_story_3754907.utf8', '1040914_business_story_3754957.utf8', '1040914_business_story_3754958.utf8', '1040914_business_story_3754959.utf8', '1040914_business_story_3754960.utf8', '1040914_business_story_3754961.utf8', '1040914_business_story_3754962.utf8', '1040914_business_story_3754963.utf8', '1040914_business_story_3754964.utf8', '1040914_business_story_3754965.utf8', '1040914_business_story_3755080.utf8', '1040914_business_story_3755223.utf8', '1040914_business_story_3755336.utf8', '1040915_business_story_3757553.utf8', '1040915_business_story_3757845.utf8', '1040915_business_story_3758225.utf8', '1040915_business_story_3758372.utf8', '1040915_business_story_3758634.utf8', '1040915_business_story_3759068.utf8', '1040915_business_story_3759069.utf8', '1040915_business_story_3759210.utf8', '1040915_business_story_3759278.utf8', '1040915_business_story_3759441.utf8', '1040915_business_story_3759442.utf8', '1040915_business_story_3759443.utf8', '1040915_business_story_3759444.utf8', '1040915_business_story_3759445.utf8', '1040915_business_story_3759452.utf8', '1040915_business_story_3759453.utf8', '1040915_business_story_3759663.utf8', '1040915_business_story_3759664.utf8', '1040915_business_story_3759665.utf8', '1040915_business_story_3759666.utf8', '1040915_business_story_3759667.utf8', '1040915_business_story_3759960.utf8', '1040916_business_story_3761565.utf8', '1040916_business_story_3762288.utf8', '1040916_business_story_3762360.utf8', '1040916_business_story_3763104.utf8', '1040916_business_story_3763156.utf8', '1040916_business_story_3763185.utf8', '1040916_business_story_3763448.utf8', '1040916_business_story_3763553.utf8', '1040916_business_story_3763806.utf8', '1040916_business_story_3763882.utf8', '1040916_business_story_3763883.utf8', '1040916_business_story_3763884.utf8', '1040916_business_story_3763885.utf8', '1040916_business_story_3763887.utf8', '1040916_business_story_3763888.utf8', '1040916_business_story_3763889.utf8', '1040916_business_story_3763890.utf8', '1040916_business_story_3763892.utf8', '1040916_business_story_3763907.utf8', '1040916_business_story_3763987.utf8', '1040916_business_story_3764077.utf8', '1040917_business_story_3766915.utf8', '1040917_business_story_3767231.utf8', '1040917_business_story_3768310.utf8', '1040917_business_story_3768316.utf8', '1040917_business_story_3768366.utf8', '1040917_business_story_3768372.utf8', '1040917_business_story_3768449.utf8', '1040917_business_story_3768688.utf8', '1040917_business_story_3768689.utf8', '1040917_business_story_3768690.utf8', '1040917_business_story_3768691.utf8', '1040917_business_story_3768692.utf8', '1040917_business_story_3768693.utf8', '1040917_business_story_3768694.utf8', '1040917_business_story_3768700.utf8', '1040918_business_story_3770988.utf8', '1040918_business_story_3771013.utf8', '1040918_business_story_3771612.utf8', '1040918_business_story_3771964.utf8', '1040918_business_story_3772414.utf8', '1040918_business_story_3772578.utf8', '1040918_business_story_3772793.utf8', '1040918_business_story_3772817.utf8', '1040918_business_story_3772818.utf8', '1040918_business_story_3772819.utf8', '1040918_business_story_3772820.utf8', '1040918_business_story_3772821.utf8', '1040918_business_story_3772987.utf8', '1040918_business_story_3772988.utf8', '1040918_business_story_3772989.utf8', '1040918_business_story_3772990.utf8', '1040918_business_story_3772991.utf8', '1040918_business_story_3772992.utf8', '1040918_business_story_3772993.utf8', '1040918_business_story_3773355.utf8', '1040918_business_story_3773356.utf8', '1040919_business_story_3775918.utf8', '1040919_business_story_3775919.utf8', '1040919_business_story_3775920.utf8', '1040919_business_story_3775921.utf8', '1040919_business_story_3776028.utf8', '1040919_business_story_3776029.utf8', '1040919_business_story_3776030.utf8', '1040919_business_story_3776031.utf8', '1040919_business_story_3776032.utf8', '1040919_business_story_3777135.utf8', '1040920_business_story_3779236.utf8', '1040920_business_story_3779237.utf8', '1040920_business_story_3779238.utf8', '1040920_business_story_3779239.utf8', '1040920_business_story_3779401.utf8', '1040920_business_story_3779402.utf8', '1040920_business_story_3779403.utf8', '1040920_business_story_3779404.utf8', '1040920_business_story_3779405.utf8', '1040920_business_story_3779557.utf8', '1040920_business_story_3779558.utf8', '1040920_business_story_3779559.utf8', '1040921_business_story_3781512.utf8', '1040921_business_story_3782604.utf8', '1040921_business_story_3782822.utf8', '1040921_business_story_3783110.utf8', '1040921_business_story_3783172.utf8', '1040921_business_story_3783316.utf8', '1040921_business_story_3783471.utf8', '1040921_business_story_3783472.utf8', '1040921_business_story_3783478.utf8', '1040921_business_story_3783479.utf8', '1040921_business_story_3783480.utf8', '1040921_business_story_3783481.utf8', '1040921_business_story_3783482.utf8', '1040921_business_story_3783555.utf8', '1040921_business_story_3783556.utf8', '1040921_business_story_3783557.utf8', '1040921_business_story_3783642.utf8', '1040921_business_story_3783708.utf8', '1040921_business_story_3783709.utf8', '1040921_business_story_3783737.utf8', '1040921_business_story_3783903.utf8', '1040921_business_story_3784797.utf8', '1040922_business_story_3785445.utf8', '1040922_business_story_3785904.utf8', '1040922_business_story_3786202.utf8', '1040922_business_story_3786462.utf8', '1040922_business_story_3786621.utf8', '1040922_business_story_3786962.utf8', '1040922_business_story_3787496.utf8', '1040922_business_story_3787719.utf8', '1040922_business_story_3787811.utf8', '1040922_business_story_3787812.utf8', '1040922_business_story_3787813.utf8', '1040922_business_story_3787969.utf8', '1040922_business_story_3787970.utf8', '1040922_business_story_3787971.utf8', '1040922_business_story_3787972.utf8', '1040922_business_story_3787973.utf8', '1040922_business_story_3787974.utf8', '1040922_business_story_3787975.utf8', '1040922_business_story_3787976.utf8', '1040922_business_story_3788002.utf8', '1040922_business_story_3788201.utf8', '1040923_business_story_3790050.utf8', '1040923_business_story_3790127.utf8', '1040923_business_story_3790289.utf8', '1040923_business_story_3791070.utf8', '1040923_business_story_3791719.utf8', '1040923_business_story_3792119.utf8', '1040923_business_story_3792336.utf8', '1040923_business_story_3792379.utf8', '1040923_business_story_3792419.utf8', '1040923_business_story_3792509.utf8', '1040923_business_story_3792510.utf8', '1040923_business_story_3792511.utf8', '1040923_business_story_3792512.utf8', '1040923_business_story_3792516.utf8', '1040923_business_story_3792517.utf8', '1040923_business_story_3792518.utf8', '1040923_business_story_3792519.utf8', '1040923_business_story_3792520.utf8', '1040923_business_story_3792521.utf8', '1040923_business_story_3792522.utf8', '1040923_business_story_3792523.utf8', '1040923_business_story_3792524.utf8', '1040923_business_story_3792808.utf8', '1040924_business_story_3794956.utf8', '1040924_business_story_3795157.utf8', '1040924_business_story_3795211.utf8', '1040924_business_story_3795563.utf8', '1040924_business_story_3795850.utf8', '1040924_business_story_3796021.utf8', '1040924_business_story_3796303.utf8', '1040924_business_story_3796401.utf8', '1040924_business_story_3796815.utf8', '1040924_business_story_3796817.utf8', '1040924_business_story_3796893.utf8', '1040924_business_story_3797082.utf8', '1040924_business_story_3797083.utf8', '1040924_business_story_3797084.utf8', '1040924_business_story_3797085.utf8', '1040924_business_story_3797086.utf8', '1040924_business_story_3797087.utf8', '1040924_business_story_3797088.utf8', '1040924_business_story_3797089.utf8', '1040924_business_story_3797110.utf8', '1040924_business_story_3797169.utf8', '1040925_business_story_3799242.utf8', '1040925_business_story_3799481.utf8', '1040925_business_story_3799935.utf8', '1040925_business_story_3800553.utf8', '1040925_business_story_3800789.utf8', '1040925_business_story_3801095.utf8', '1040925_business_story_3801328.utf8', '1040925_business_story_3801369.utf8', '1040925_business_story_3801403.utf8', '1040925_business_story_3801550.utf8', '1040925_business_story_3801608.utf8', '1040925_business_story_3801609.utf8', '1040925_business_story_3801610.utf8', '1040925_business_story_3801611.utf8', '1040925_business_story_3801612.utf8', '1040925_business_story_3801613.utf8', '1040925_business_story_3801614.utf8', '1040925_business_story_3801615.utf8', '1040925_business_story_3801701.utf8', '1040926_business_story_3804823.utf8', '1040926_business_story_3804824.utf8', '1040926_business_story_3804825.utf8', '1040926_business_story_3804831.utf8', '1040926_business_story_3804832.utf8', '1040926_business_story_3805147.utf8', '1040927_business_story_3807973.utf8', '1040927_business_story_3807974.utf8', '1040927_business_story_3807975.utf8', '1040927_business_story_3807976.utf8', '1040927_business_story_3808207.utf8', '1040927_business_story_3808208.utf8', '1040927_business_story_3808209.utf8', '1040927_business_story_3808504.utf8', '1040927_business_story_3808505.utf8', '1040927_business_story_3808506.utf8', '1040927_business_story_3808507.utf8', '1040927_business_story_3808508.utf8', '1040927_business_story_3808509.utf8', '1040927_business_story_3808510.utf8', '1040928_business_story_3799542.utf8', '1040928_business_story_3810438.utf8', '1040928_business_story_3810453.utf8', '1040928_business_story_3810996.utf8', '1040928_business_story_3811977.utf8', '1040928_business_story_3812061.utf8', '1040928_business_story_3812251.utf8', '1040928_business_story_3812348.utf8', '1040928_business_story_3812445.utf8', '1040928_business_story_3812688.utf8', '1040928_business_story_3812707.utf8', '1040928_business_story_3812739.utf8', '1040928_business_story_3812740.utf8', '1040928_business_story_3812741.utf8', '1040928_business_story_3812742.utf8', '1040928_business_story_3812743.utf8', '1040928_business_story_3812744.utf8', '1040928_business_story_3812746.utf8', '1040928_business_story_3812747.utf8', '1040928_business_story_3812761.utf8', '1040928_business_story_3812762.utf8', '1040928_business_story_3812763.utf8', '1040929_business_story_3814906.utf8', '1040929_business_story_3815544.utf8', '1040929_business_story_3816063.utf8', '1040929_business_story_3816134.utf8', '1040929_business_story_3816706.utf8', '1040929_business_story_3816845.utf8', '1040929_business_story_3816902.utf8', '1040929_business_story_3817025.utf8', '1040929_business_story_3817114.utf8', '1040929_business_story_3817124.utf8', '1040929_business_story_3817125.utf8', '1040929_business_story_3817126.utf8', '1040929_business_story_3817127.utf8', '1040929_business_story_3817128.utf8', '1040929_business_story_3817129.utf8', '1040929_business_story_3817130.utf8', '1040929_business_story_3817132.utf8', '1040929_business_story_3817146.utf8', '1040929_business_story_3817147.utf8', '1040929_business_story_3817148.utf8', '1040929_business_story_3817152.utf8', '1040929_business_story_3817230.utf8', '1040929_business_story_3817429.utf8', '1040930_business_story_3819678.utf8', '1040930_business_story_3819679.utf8', '1040930_business_story_3820215.utf8', '1040930_business_story_3820472.utf8', '1040930_business_story_3821230.utf8', '1040930_business_story_3821285.utf8', '1040930_business_story_3821291.utf8', '1040930_business_story_3821598.utf8', '1040930_business_story_3821762.utf8', '1040930_business_story_3821763.utf8', '1040930_business_story_3821764.utf8', '1040930_business_story_3821765.utf8', '1040930_business_story_3821766.utf8', '1040930_business_story_3821767.utf8', '1040930_business_story_3821768.utf8', '1040930_business_story_3821769.utf8', '1040930_business_story_3821770.utf8', '1040930_business_story_3821784.utf8', '1040930_business_story_3821786.utf8', '1041001_business_story_3824399.utf8', '1041001_business_story_3824408.utf8', '1041001_business_story_3824575.utf8', '1041001_business_story_3824672.utf8', '1041001_business_story_3824749.utf8', '1041001_business_story_3824860.utf8', '1041001_business_story_3824882.utf8', '1041001_business_story_3825365.utf8', '1041001_business_story_3825642.utf8', '1041001_business_story_3826256.utf8', '1041001_business_story_3826286.utf8', '1041001_business_story_3826734.utf8', '1041001_business_story_3826735.utf8', '1041001_business_story_3826736.utf8', '1041001_business_story_3826737.utf8', '1041001_business_story_3826738.utf8', '1041001_business_story_3826742.utf8', '1041001_business_story_3826744.utf8', '1041001_business_story_3827277.utf8', '1041002_business_story_3829343.utf8', '1041002_business_story_3829454.utf8', '1041002_business_story_3830455.utf8', '1041002_business_story_3830627.utf8', '1041002_business_story_3830673.utf8', '1041002_business_story_3830986.utf8', '1041002_business_story_3831382.utf8', '1041002_business_story_3831532.utf8', '1041002_business_story_3831533.utf8', '1041002_business_story_3831534.utf8', '1041002_business_story_3831535.utf8', '1041002_business_story_3831536.utf8', '1041002_business_story_3831537.utf8', '1041002_business_story_3831538.utf8', '1041002_business_story_3831539.utf8', '1041002_business_story_3831540.utf8', '1041002_business_story_3831541.utf8', '1041003_business_story_3834807.utf8', '1041003_business_story_3834808.utf8', '1041003_business_story_3834817.utf8', '1041003_business_story_3834818.utf8', '1041003_business_story_3834819.utf8', '1041003_business_story_3834820.utf8', '1041003_business_story_3835849.utf8', '1041004_business_story_3838411.utf8', '1041004_business_story_3838412.utf8', '1041004_business_story_3838413.utf8', '1041004_business_story_3838414.utf8', '1041004_business_story_3838415.utf8', '1041004_business_story_3838416.utf8', '1041004_business_story_3838417.utf8', '1041004_business_story_3838438.utf8', '1041004_business_story_3838439.utf8', '1041004_business_story_3838440.utf8', '1041004_business_story_3838441.utf8', '1041004_business_story_3838568.utf8', '1041004_business_story_3838569.utf8', '1041004_business_story_3838570.utf8', '1041004_business_story_3838571.utf8', '1041004_business_story_3838572.utf8', '1041004_business_story_3838573.utf8', '1041005_business_story_3840358.utf8', '1041005_business_story_3840529.utf8', '1041005_business_story_3841648.utf8', '1041005_business_story_3841883.utf8', '1041005_business_story_3841981.utf8', '1041005_business_story_3842160.utf8', '1041005_business_story_3842186.utf8', '1041005_business_story_3842237.utf8', '1041005_business_story_3842238.utf8', '1041005_business_story_3842239.utf8', '1041005_business_story_3842335.utf8', '1041005_business_story_3842336.utf8', '1041005_business_story_3842337.utf8', '1041005_business_story_3842338.utf8', '1041005_business_story_3842339.utf8', '1041005_business_story_3842340.utf8', '1041005_business_story_3842341.utf8', '1041005_business_story_3842342.utf8', '1041005_business_story_3842390.utf8', '1041005_business_story_3842479.utf8', '1041005_business_story_3842646.utf8', '1041005_business_story_3842804.utf8', '1041006_business_story_3844843.utf8', '1041006_business_story_3846191.utf8', '1041006_business_story_3846286.utf8', '1041006_business_story_3846398.utf8', '1041006_business_story_3846458.utf8', '1041006_business_story_3846560.utf8', '1041006_business_story_3846608.utf8', '1041006_business_story_3846694.utf8', '1041006_business_story_3846695.utf8', '1041006_business_story_3846696.utf8', '1041006_business_story_3846697.utf8', '1041006_business_story_3846698.utf8', '1041006_business_story_3846699.utf8', '1041006_business_story_3846700.utf8', '1041006_business_story_3846703.utf8', '1041006_business_story_3846770.utf8', '1041006_business_story_3846771.utf8', '1041006_business_story_3846772.utf8', '1041006_business_story_3846773.utf8', '1041006_business_story_3846781.utf8', '1041006_business_story_3846962.utf8', '1041006_business_story_3847000.utf8', '1041006_business_story_3847056.utf8', '1041006_business_story_3847114.utf8', '1041007_business_story_3849154.utf8', '1041007_business_story_3849321.utf8', '1041007_business_story_3849432.utf8', '1041007_business_story_3849702.utf8', '1041007_business_story_3849882.utf8', '1041007_business_story_3850103.utf8', '1041007_business_story_3850854.utf8', '1041007_business_story_3851020.utf8', '1041007_business_story_3851037.utf8', '1041007_business_story_3851542.utf8', '1041007_business_story_3851586.utf8', '1041007_business_story_3851587.utf8', '1041007_business_story_3851588.utf8', '1041007_business_story_3851589.utf8', '1041007_business_story_3851592.utf8', '1041007_business_story_3851593.utf8', '1041007_business_story_3851594.utf8', '1041007_business_story_3851595.utf8', '1041007_business_story_3851611.utf8', '1041007_business_story_3851612.utf8', '1041008_business_story_3854055.utf8', '1041008_business_story_3854650.utf8', '1041008_business_story_3854963.utf8', '1041008_business_story_3855094.utf8', '1041008_business_story_3855174.utf8', '1041008_business_story_3855306.utf8', '1041008_business_story_3855440.utf8', '1041008_business_story_3855794.utf8', '1041008_business_story_3855992.utf8', '1041008_business_story_3856294.utf8', '1041008_business_story_3856295.utf8', '1041008_business_story_3856296.utf8', '1041008_business_story_3856297.utf8', '1041008_business_story_3856300.utf8', '1041008_business_story_3856301.utf8', '1041008_business_story_3856302.utf8', '1041008_business_story_3856344.utf8', '1041008_business_story_3857527.utf8', '1041009_business_story_3858875.utf8', '1041009_business_story_3859926.utf8', '1041009_business_story_3860090.utf8', '1041009_business_story_3860735.utf8', '1041009_business_story_3860889.utf8', '1041009_business_story_3860890.utf8', '1041009_business_story_3860891.utf8', '1041009_business_story_3860892.utf8', '1041009_business_story_3860893.utf8', '1041009_business_story_3860894.utf8', '1041009_business_story_3860895.utf8', '1041009_business_story_3860896.utf8', '1041010_business_story_3864294.utf8', '1041010_business_story_3864295.utf8', '1041010_business_story_3864296.utf8', '1041010_business_story_3864297.utf8', '1041011_business_story_3867911.utf8', '1041011_business_story_3867912.utf8', '1041011_business_story_3867913.utf8', '1041011_business_story_3867914.utf8', '1041011_business_story_3867915.utf8', '1041011_business_story_3867916.utf8', '1041011_business_story_3867917.utf8', '1041011_business_story_3867918.utf8', '1041011_business_story_3867919.utf8', '1041011_business_story_3867973.utf8', '1041011_business_story_3867974.utf8', '1041011_business_story_3867975.utf8', '1041011_business_story_3867976.utf8', '1041011_business_story_3868580.utf8', '1041011_business_story_3868581.utf8', '1041011_business_story_3868583.utf8', '1041012_business_story_3870128.utf8', '1041012_business_story_3870339.utf8', '1041012_business_story_3870652.utf8', '1041012_business_story_3871304.utf8', '1041012_business_story_3871305.utf8', '1041012_business_story_3871307.utf8', '1041012_business_story_3871456.utf8', '1041012_business_story_3871510.utf8', '1041012_business_story_3871659.utf8', '1041012_business_story_3871731.utf8', '1041012_business_story_3871832.utf8', '1041012_business_story_3872020.utf8', '1041012_business_story_3872021.utf8', '1041012_business_story_3872022.utf8', '1041012_business_story_3872023.utf8', '1041012_business_story_3872024.utf8', '1041012_business_story_3872036.utf8', '1041013_business_story_3875137.utf8', '1041013_business_story_3875279.utf8', '1041013_business_story_3875383.utf8', '1041013_business_story_3875645.utf8', '1041013_business_story_3875790.utf8', '1041013_business_story_3875829.utf8', '1041013_business_story_3876068.utf8', '1041013_business_story_3876169.utf8', '1041013_business_story_3876187.utf8', '1041013_business_story_3876188.utf8', '1041013_business_story_3876259.utf8', '1041013_business_story_3876260.utf8', '1041013_business_story_3876261.utf8', '1041013_business_story_3876263.utf8', '1041013_business_story_3876264.utf8', '1041013_business_story_3876265.utf8', '1041013_business_story_3876266.utf8', '1041013_business_story_3877669.utf8', '1041014_business_story_3878399.utf8', '1041014_business_story_3878506.utf8', '1041014_business_story_3878520.utf8', '1041014_business_story_3878900.utf8', '1041014_business_story_3879025.utf8', '1041014_business_story_3879153.utf8', '1041014_business_story_3879498.utf8', '1041014_business_story_3879589.utf8', '1041014_business_story_3879601.utf8', '1041014_business_story_3879749.utf8', '1041014_business_story_3879750.utf8', '1041014_business_story_3879757.utf8', '1041014_business_story_3879869.utf8', '1041014_business_story_3879880.utf8', '1041014_business_story_3879885.utf8', '1041014_business_story_3880012.utf8', '1041014_business_story_3880326.utf8', '1041015_business_story_3882915.utf8', '1041015_business_story_3884596.utf8', '1041015_business_story_3884616.utf8', '1041015_business_story_3884775.utf8', '1041015_business_story_3884801.utf8', '1041015_business_story_3884919.utf8', '1041015_business_story_3885181.utf8', '1041015_business_story_3885182.utf8', '1041015_business_story_3885183.utf8', '1041015_business_story_3885184.utf8', '1041015_business_story_3885185.utf8', '1041015_business_story_3885186.utf8', '1041015_business_story_3885188.utf8', '1041015_business_story_3885264.utf8', '1041015_business_story_3885335.utf8', '1041016_business_story_3887455.utf8', '1041016_business_story_3887889.utf8', '1041016_business_story_3888086.utf8', '1041016_business_story_3888544.utf8', '1041016_business_story_3888805.utf8', '1041016_business_story_3888900.utf8', '1041016_business_story_3889000.utf8', '1041016_business_story_3889174.utf8', '1041016_business_story_3889349.utf8', '1041016_business_story_3889544.utf8', '1041016_business_story_3889545.utf8', '1041016_business_story_3889547.utf8', '1041016_business_story_3889548.utf8', '1041016_business_story_3889549.utf8', '1041016_business_story_3889677.utf8', '1041017_business_story_3893206.utf8', '1041017_business_story_3893207.utf8', '1041017_business_story_3893208.utf8', '1041017_business_story_3893212.utf8', '1041017_business_story_3893213.utf8', '1041017_business_story_3893215.utf8', '1041017_business_story_3893216.utf8', '1041018_business_story_3896214.utf8', '1041018_business_story_3896215.utf8', '1041018_business_story_3896362.utf8', '1041018_business_story_3896363.utf8', '1041018_business_story_3896364.utf8', '1041018_business_story_3896366.utf8', '1041018_business_story_3896470.utf8', '1041018_business_story_3896471.utf8', '1041018_business_story_3896472.utf8', '1041018_business_story_3896473.utf8', '1041019_business_story_3899658.utf8', '1041019_business_story_3899880.utf8', '1041019_business_story_3899950.utf8', '1041019_business_story_3900218.utf8', '1041019_business_story_3900485.utf8', '1041019_business_story_3900486.utf8', '1041019_business_story_3900487.utf8', '1041019_business_story_3900488.utf8', '1041019_business_story_3900489.utf8', '1041019_business_story_3900490.utf8', '1041019_business_story_3900491.utf8', '1041020_business_story_3902691.utf8', '1041020_business_story_3903581.utf8', '1041020_business_story_3903621.utf8', '1041020_business_story_3904128.utf8', '1041020_business_story_3904272.utf8', '1041020_business_story_3904304.utf8', '1041020_business_story_3904478.utf8', '1041020_business_story_3904640.utf8', '1041020_business_story_3904942.utf8', '1041020_business_story_3904943.utf8', '1041020_business_story_3904944.utf8', '1041020_business_story_3904945.utf8', '1041020_business_story_3904946.utf8', '1041020_business_story_3904953.utf8', '1041020_business_story_3904954.utf8', '1041020_business_story_3904965.utf8', '1041020_business_story_3905047.utf8', '1041021_business_story_3906949.utf8', '1041021_business_story_3907682.utf8', '1041021_business_story_3908239.utf8', '1041021_business_story_3908512.utf8', '1041021_business_story_3908600.utf8', '1041021_business_story_3908677.utf8', '1041021_business_story_3908683.utf8', '1041021_business_story_3908856.utf8', '1041021_business_story_3909056.utf8', '1041021_business_story_3909060.utf8', '1041021_business_story_3909061.utf8', '1041021_business_story_3909062.utf8', '1041021_business_story_3909063.utf8', '1041021_business_story_3909064.utf8', '1041021_business_story_3909065.utf8', '1041021_business_story_3909066.utf8', '1041021_business_story_3909067.utf8', '1041021_business_story_3909128.utf8', '1041022_business_story_3911371.utf8', '1041022_business_story_3911831.utf8', '1041022_business_story_3911990.utf8', '1041022_business_story_3912412.utf8', '1041022_business_story_3912907.utf8', '1041022_business_story_3912980.utf8', '1041022_business_story_3913114.utf8', '1041022_business_story_3913529.utf8', '1041022_business_story_3913530.utf8', '1041022_business_story_3913531.utf8', '1041022_business_story_3913532.utf8', '1041022_business_story_3913533.utf8', '1041022_business_story_3913534.utf8', '1041022_business_story_3913535.utf8', '1041022_business_story_3913536.utf8', '1041023_business_story_3916764.utf8', '1041023_business_story_3916765.utf8', '1041023_business_story_3916766.utf8', '1041023_business_story_3916767.utf8', '1041023_business_story_3916768.utf8', '1041023_business_story_3916769.utf8', '1041023_business_story_3916770.utf8', '1041023_business_story_3916806.utf8', '1041023_business_story_3916807.utf8', '1041023_business_story_3916808.utf8', '1041023_business_story_3916809.utf8', '1041023_business_story_3916810.utf8', '1041023_business_story_3916863.utf8', '1041023_business_story_3916864.utf8', '1041025_business_story_3921296.utf8', '1041025_business_story_3921297.utf8', '1041025_business_story_3921298.utf8', '1041025_business_story_3921299.utf8', '1041025_business_story_3921300.utf8', '1041025_business_story_3921323.utf8', '1041025_business_story_3921324.utf8', '1041025_business_story_3921325.utf8', '1041025_business_story_3921341.utf8', '1041025_business_story_3921342.utf8', '1041025_business_story_3921343.utf8', '1041025_business_story_3921344.utf8', '1041025_business_story_3921345.utf8', '1041025_business_story_3921346.utf8', '1041025_business_story_3921347.utf8', '1041025_business_story_3921348.utf8', '1041026_business_story_3923741.utf8', '1041026_business_story_3924094.utf8', '1041026_business_story_3924583.utf8', '1041026_business_story_3924874.utf8', '1041026_business_story_3925110.utf8', '1041026_business_story_3925187.utf8', '1041026_business_story_3925339.utf8', '1041026_business_story_3925350.utf8', '1041026_business_story_3925380.utf8', '1041026_business_story_3925423.utf8', '1041026_business_story_3925664.utf8', '1041026_business_story_3925665.utf8', '1041026_business_story_3925666.utf8', '1041026_business_story_3925667.utf8', '1041026_business_story_3925668.utf8', '1041026_business_story_3925669.utf8', '1041026_business_story_3925670.utf8', '1041026_business_story_3925671.utf8', '1041026_business_story_3925672.utf8', '1041027_business_story_3927763.utf8', '1041027_business_story_3927887.utf8', '1041027_business_story_3928415.utf8', '1041027_business_story_3929059.utf8', '1041027_business_story_3929132.utf8', '1041027_business_story_3929454.utf8', '1041027_business_story_3929479.utf8', '1041027_business_story_3929723.utf8', '1041027_business_story_3929814.utf8', '1041027_business_story_3929870.utf8', '1041027_business_story_3929916.utf8', '1041027_business_story_3930035.utf8', '1041027_business_story_3930036.utf8', '1041027_business_story_3930038.utf8', '1041027_business_story_3930039.utf8', '1041027_business_story_3930041.utf8', '1041027_business_story_3930042.utf8', '1041028_business_story_3924306.utf8', '1041028_business_story_3932213.utf8', '1041028_business_story_3932704.utf8', '1041028_business_story_3932945.utf8', '1041028_business_story_3933544.utf8', '1041028_business_story_3933831.utf8', '1041028_business_story_3934118.utf8', '1041028_business_story_3934180.utf8', '1041028_business_story_3934351.utf8', '1041028_business_story_3934440.utf8', '1041028_business_story_3934500.utf8', '1041028_business_story_3934501.utf8', '1041028_business_story_3934503.utf8', '1041028_business_story_3934504.utf8', '1041028_business_story_3934505.utf8', '1041028_business_story_3934506.utf8', '1041028_business_story_3934507.utf8', '1041028_business_story_3934508.utf8', '1041028_business_story_3934514.utf8', '1041028_business_story_3934631.utf8', '1041029_business_story_3936565.utf8', '1041029_business_story_3936628.utf8', '1041029_business_story_3936899.utf8', '1041029_business_story_3937233.utf8', '1041029_business_story_3937760.utf8', '1041029_business_story_3938147.utf8', '1041029_business_story_3938221.utf8', '1041029_business_story_3938391.utf8', '1041029_business_story_3938455.utf8', '1041029_business_story_3938516.utf8', '1041029_business_story_3938679.utf8', '1041029_business_story_3938734.utf8', '1041029_business_story_3938891.utf8', '1041029_business_story_3938990.utf8', '1041029_business_story_3938991.utf8', '1041029_business_story_3938992.utf8', '1041029_business_story_3938993.utf8', '1041029_business_story_3938994.utf8', '1041029_business_story_3938995.utf8', '1041029_business_story_3939265.utf8', '1041030_business_story_3940854.utf8', '1041030_business_story_3941118.utf8', '1041030_business_story_3942165.utf8', '1041030_business_story_3942503.utf8', '1041030_business_story_3942515.utf8', '1041030_business_story_3942635.utf8', '1041030_business_story_3943148.utf8', '1041030_business_story_3943302.utf8', '1041030_business_story_3943323.utf8', '1041030_business_story_3943409.utf8', '1041030_business_story_3943410.utf8', '1041030_business_story_3943411.utf8', '1041030_business_story_3943412.utf8', '1041030_business_story_3943413.utf8', '1041030_business_story_3943414.utf8', '1041030_business_story_3943420.utf8', '1041031_business_story_3947145.utf8', '1041031_business_story_3947146.utf8', '1041031_business_story_3947147.utf8', '1041031_business_story_3947148.utf8', '1041031_business_story_3947149.utf8', '1041031_business_story_3947468.utf8', '1041031_business_story_3947470.utf8', '1041031_business_story_3947471.utf8', '1041031_business_story_3947472.utf8', '1041031_business_story_3947473.utf8', '1041031_business_story_3948123.utf8', '1041101_business_story_3949494.utf8', '1041101_business_story_3949824.utf8', '1041101_business_story_3949825.utf8', '1041101_business_story_3949826.utf8', '1041101_business_story_3949827.utf8', '1041101_business_story_3950210.utf8', '1041101_business_story_3950212.utf8', '1041101_business_story_3950213.utf8', '1041101_business_story_3950214.utf8', '1041101_business_story_3950314.utf8', '1041101_business_story_3950315.utf8', '1041101_business_story_3950316.utf8', '1041101_business_story_3950317.utf8', '1041101_business_story_3950318.utf8', '1041102_business_story_3952358.utf8', '1041102_business_story_3952402.utf8', '1041102_business_story_3952654.utf8', '1041102_business_story_3952770.utf8', '1041102_business_story_3952883.utf8', '1041102_business_story_3952983.utf8', '1041102_business_story_3953110.utf8', '1041102_business_story_3953470.utf8', '1041102_business_story_3953471.utf8', '1041102_business_story_3953621.utf8', '1041102_business_story_3953802.utf8', '1041102_business_story_3953819.utf8', '1041102_business_story_3953946.utf8', '1041102_business_story_3954424.utf8', '1041102_business_story_3954485.utf8', '1041102_business_story_3954486.utf8', '1041102_business_story_3954487.utf8', '1041102_business_story_3954488.utf8', '1041102_business_story_3954489.utf8', '1041102_business_story_3954490.utf8', '1041102_business_story_3954491.utf8', '1041102_business_story_3954493.utf8', '1041102_business_story_3954494.utf8', '1041102_business_story_3955900.utf8', '1041103_business_story_3956584.utf8', '1041103_business_story_3956952.utf8', '1041103_business_story_3957078.utf8', '1041103_business_story_3957864.utf8', '1041103_business_story_3957970.utf8', '1041103_business_story_3957984.utf8', '1041103_business_story_3958010.utf8', '1041103_business_story_3958013.utf8', '1041103_business_story_3958029.utf8', '1041103_business_story_3958169.utf8', '1041103_business_story_3958584.utf8', '1041103_business_story_3958805.utf8', '1041103_business_story_3958806.utf8', '1041103_business_story_3958807.utf8', '1041103_business_story_3958809.utf8', '1041103_business_story_3958810.utf8', '1041103_business_story_3958811.utf8', '1041103_business_story_3958812.utf8', '1041103_business_story_3958813.utf8', '1041103_business_story_3958814.utf8', '1041103_business_story_3958815.utf8', '1041103_business_story_3959002.utf8', '1041103_business_story_3959003.utf8', '1041103_business_story_3959004.utf8', '1041104_business_story_3961072.utf8', '1041104_business_story_3961649.utf8', '1041104_business_story_3961957.utf8', '1041104_business_story_3961958.utf8', '1041104_business_story_3961959.utf8', '1041104_business_story_3961962.utf8', '1041104_business_story_3962627.utf8', '1041104_business_story_3962630.utf8', '1041104_business_story_3962757.utf8', '1041104_business_story_3963078.utf8', '1041104_business_story_3963174.utf8', '1041104_business_story_3963175.utf8', '1041104_business_story_3963242.utf8', '1041104_business_story_3963243.utf8', '1041104_business_story_3963244.utf8', '1041104_business_story_3963245.utf8', '1041104_business_story_3963246.utf8', '1041104_business_story_3963247.utf8', '1041104_business_story_3963248.utf8', '1041104_business_story_3963249.utf8', '1041104_business_story_3964356.utf8', '1041106_business_story_3969874.utf8', '1041106_business_story_3970116.utf8', '1041106_business_story_3970184.utf8', '1041106_business_story_3970315.utf8', '1041106_business_story_3970357.utf8', '1041106_business_story_3971016.utf8', '1041106_business_story_3971308.utf8', '1041106_business_story_3971359.utf8', '1041106_business_story_3971627.utf8', '1041106_business_story_3971764.utf8', '1041106_business_story_3971765.utf8', '1041106_business_story_3971766.utf8', '1041106_business_story_3971767.utf8', '1041106_business_story_3971768.utf8', '1041106_business_story_3971770.utf8', '1041106_business_story_3971941.utf8', '1041107_business_story_3975591.utf8', '1041107_business_story_3975592.utf8', '1041107_business_story_3975593.utf8', '1041107_business_story_3975598.utf8', '1041107_business_story_3975599.utf8', '1041107_business_story_3975600.utf8', '1041107_business_story_3975690.utf8', '1041108_business_story_3971555.utf8', '1041108_business_story_3971588.utf8', '1041108_business_story_3971589.utf8', '1041108_business_story_3978332.utf8', '1041108_business_story_3978333.utf8', '1041108_business_story_3978334.utf8', '1041108_business_story_3978335.utf8', '1041108_business_story_3978336.utf8', '1041108_business_story_3978457.utf8', '1041108_business_story_3978458.utf8', '1041108_business_story_3978459.utf8', '1041108_business_story_3978460.utf8', '1041108_business_story_3978461.utf8', '1041109_business_story_3973559.utf8', '1041109_business_story_3980406.utf8', '1041109_business_story_3980529.utf8', '1041109_business_story_3980642.utf8', '1041109_business_story_3980692.utf8', '1041109_business_story_3980954.utf8', '1041109_business_story_3981256.utf8', '1041109_business_story_3981837.utf8', '1041109_business_story_3982310.utf8', '1041109_business_story_3982330.utf8', '1041109_business_story_3982331.utf8', '1041109_business_story_3982332.utf8', '1041109_business_story_3982333.utf8', '1041109_business_story_3982334.utf8', '1041109_business_story_3982341.utf8', '1041109_business_story_3982387.utf8', '1041109_business_story_3982394.utf8', '1041109_business_story_3982867.utf8', '1041110_business_story_3984769.utf8', '1041110_business_story_3985485.utf8', '1041110_business_story_3985495.utf8', '1041110_business_story_3985784.utf8', '1041110_business_story_3986197.utf8', '1041110_business_story_3986220.utf8', '1041110_business_story_3986490.utf8', '1041110_business_story_3986727.utf8', '1041110_business_story_3986728.utf8', '1041110_business_story_3986729.utf8', '1041110_business_story_3986730.utf8', '1041110_business_story_3986731.utf8', '1041110_business_story_3986737.utf8', '1041110_business_story_3986738.utf8', '1041110_business_story_3986757.utf8', '1041111_business_story_3988806.utf8', '1041111_business_story_3989523.utf8', '1041111_business_story_3989874.utf8', '1041111_business_story_3990161.utf8', '1041111_business_story_3990162.utf8', '1041111_business_story_3990359.utf8', '1041111_business_story_3990449.utf8', '1041111_business_story_3990726.utf8', '1041111_business_story_3990793.utf8', '1041111_business_story_3990890.utf8', '1041111_business_story_3990937.utf8', '1041111_business_story_3990938.utf8', '1041111_business_story_3990939.utf8', '1041111_business_story_3990940.utf8', '1041111_business_story_3990941.utf8', '1041111_business_story_3990942.utf8', '1041111_business_story_3990948.utf8', '1041111_business_story_3990949.utf8', '1041111_business_story_3990950.utf8', '1041112_business_story_3993198.utf8', '1041112_business_story_3993471.utf8', '1041112_business_story_3993472.utf8', '1041112_business_story_3993530.utf8', '1041112_business_story_3993794.utf8', '1041112_business_story_3994470.utf8', '1041112_business_story_3994473.utf8', '1041112_business_story_3994590.utf8', '1041112_business_story_3994684.utf8', '1041112_business_story_3995168.utf8', '1041112_business_story_3995169.utf8', '1041112_business_story_3995170.utf8', '1041112_business_story_3995171.utf8', '1041112_business_story_3995173.utf8', '1041112_business_story_3995174.utf8', '1041112_business_story_3995317.utf8', '1041112_business_story_3996414.utf8', '1041113_business_story_3998964.utf8', '1041113_business_story_3998966.utf8', '1041113_business_story_3998967.utf8', '1041113_business_story_3998968.utf8', '1041113_business_story_3998969.utf8', '1041114_business_story_4002390.utf8', '1041114_business_story_4002391.utf8', '1041114_business_story_4002392.utf8', '1041114_business_story_4002393.utf8', '1041114_business_story_4002412.utf8', '1041115_business_story_4005073.utf8', '1041115_business_story_4005074.utf8', '1041115_business_story_4005075.utf8', '1041115_business_story_4005076.utf8', '1041115_business_story_4005077.utf8', '1041115_business_story_4005078.utf8', '1041115_business_story_4005079.utf8', '1041115_business_story_4005386.utf8', '1041115_business_story_4005387.utf8', '1041115_business_story_4005388.utf8', '1041115_business_story_4005398.utf8', '1041115_business_story_4005399.utf8', '1041115_business_story_4005400.utf8', '1041115_business_story_4005401.utf8', '1041115_business_story_4005402.utf8', '1041115_business_story_4005403.utf8', '1041115_business_story_4005404.utf8', '1041115_business_story_4005405.utf8', '1041116_business_story_3980638.utf8', '1041116_business_story_4001132.utf8', '1041116_business_story_4007105.utf8', '1041116_business_story_4007343.utf8', '1041116_business_story_4007635.utf8', '1041116_business_story_4007637.utf8', '1041116_business_story_4007937.utf8', '1041116_business_story_4008508.utf8', '1041116_business_story_4008689.utf8', '1041116_business_story_4008705.utf8', '1041116_business_story_4008853.utf8', '1041116_business_story_4008947.utf8', '1041116_business_story_4009076.utf8', '1041116_business_story_4009077.utf8', '1041116_business_story_4009078.utf8', '1041116_business_story_4009079.utf8', '1041116_business_story_4009080.utf8', '1041116_business_story_4009081.utf8', '1041117_business_story_4010915.utf8', '1041117_business_story_4012525.utf8', '1041117_business_story_4012616.utf8', '1041117_business_story_4012689.utf8', '1041117_business_story_4012916.utf8', '1041117_business_story_4012966.utf8', '1041117_business_story_4013051.utf8', '1041117_business_story_4013114.utf8', '1041117_business_story_4013150.utf8', '1041117_business_story_4013200.utf8', '1041117_business_story_4013201.utf8', '1041117_business_story_4013202.utf8', '1041117_business_story_4013203.utf8', '1041117_business_story_4013409.utf8', '1041117_business_story_4013410.utf8', '1041117_business_story_4013411.utf8', '1041117_business_story_4013412.utf8', '1041117_business_story_4013413.utf8', '1041117_business_story_4013414.utf8', '1041117_business_story_4013415.utf8', '1041118_business_story_4015387.utf8', '1041118_business_story_4015619.utf8', '1041118_business_story_4015747.utf8', '1041118_business_story_4016057.utf8', '1041118_business_story_4016081.utf8', '1041118_business_story_4016131.utf8', '1041118_business_story_4016382.utf8', '1041118_business_story_4016388.utf8', '1041118_business_story_4016923.utf8', '1041118_business_story_4016924.utf8', '1041118_business_story_4016925.utf8', '1041118_business_story_4017527.utf8', '1041118_business_story_4017767.utf8', '1041118_business_story_4017844.utf8', '1041118_business_story_4017845.utf8', '1041118_business_story_4017846.utf8', '1041118_business_story_4017847.utf8', '1041118_business_story_4017848.utf8', '1041118_business_story_4017849.utf8', '1041118_business_story_4017850.utf8', '1041118_business_story_4017851.utf8', '1041118_business_story_4017852.utf8', '1041119_business_story_3993931.utf8', '1041119_business_story_4020272.utf8', '1041119_business_story_4021272.utf8', '1041119_business_story_4021822.utf8', '1041119_business_story_4022311.utf8', '1041119_business_story_4022316.utf8', '1041119_business_story_4022317.utf8', '1041119_business_story_4022318.utf8', '1041119_business_story_4022319.utf8', '1041119_business_story_4022320.utf8', '1041119_business_story_4022321.utf8', '1041119_business_story_4022322.utf8', '1041119_business_story_4022543.utf8', '1041120_business_story_4025188.utf8', '1041120_business_story_4025677.utf8', '1041120_business_story_4026147.utf8', '1041120_business_story_4026369.utf8', '1041120_business_story_4026682.utf8', '1041120_business_story_4026732.utf8', '1041120_business_story_4026748.utf8', '1041120_business_story_4026939.utf8', '1041120_business_story_4026940.utf8', '1041120_business_story_4026941.utf8', '1041120_business_story_4026942.utf8', '1041120_business_story_4026943.utf8', '1041120_business_story_4026944.utf8', '1041120_business_story_4026946.utf8', '1041121_business_story_4030315.utf8', '1041121_business_story_4030339.utf8', '1041121_business_story_4030340.utf8', '1041121_business_story_4030341.utf8', '1041121_business_story_4030342.utf8', '1041121_business_story_4030343.utf8', '1041121_business_story_4030344.utf8', '1041121_business_story_4030345.utf8', '1041121_business_story_4030346.utf8', '1041121_business_story_4030691.utf8', '1041122_business_story_4032011.utf8', '1041122_business_story_4032225.utf8', '1041122_business_story_4032228.utf8', '1041122_business_story_4032230.utf8', '1041122_business_story_4032238.utf8', '1041122_business_story_4033393.utf8', '1041122_business_story_4033394.utf8', '1041122_business_story_4033395.utf8', '1041122_business_story_4033396.utf8', '1041122_business_story_4033979.utf8', '1041122_business_story_4033980.utf8', '1041122_business_story_4033981.utf8', '1041123_business_story_4035547.utf8', '1041123_business_story_4035723.utf8', '1041123_business_story_4036566.utf8', '1041123_business_story_4037125.utf8', '1041123_business_story_4037138.utf8', '1041123_business_story_4037273.utf8', '1041123_business_story_4037274.utf8', '1041123_business_story_4037275.utf8', '1041123_business_story_4037292.utf8', '1041123_business_story_4037329.utf8', '1041123_business_story_4037330.utf8', '1041123_business_story_4037653.utf8', '1041123_business_story_4037677.utf8', '1041123_business_story_4037993.utf8', '1041123_business_story_4037996.utf8', '1041123_business_story_4037997.utf8', '1041123_business_story_4037998.utf8', '1041123_business_story_4037999.utf8', '1041123_business_story_4038005.utf8', '1041123_business_story_4038142.utf8', '1041124_business_story_4012445.utf8', '1041124_business_story_4039961.utf8', '1041124_business_story_4041058.utf8', '1041124_business_story_4041091.utf8', '1041124_business_story_4041344.utf8', '1041124_business_story_4041438.utf8', '1041124_business_story_4041658.utf8', '1041124_business_story_4041820.utf8', '1041124_business_story_4042109.utf8', '1041124_business_story_4042124.utf8', '1041124_business_story_4042125.utf8', '1041124_business_story_4042126.utf8', '1041124_business_story_4042127.utf8', '1041124_business_story_4042128.utf8', '1041124_business_story_4042129.utf8', '1041124_business_story_4042130.utf8', '1041125_business_story_4044300.utf8', '1041125_business_story_4045405.utf8', '1041125_business_story_4045913.utf8', '1041125_business_story_4045942.utf8', '1041125_business_story_4046231.utf8', '1041125_business_story_4046412.utf8', '1041125_business_story_4046495.utf8', '1041125_business_story_4046496.utf8', '1041125_business_story_4046497.utf8', '1041125_business_story_4046516.utf8', '1041125_business_story_4046595.utf8', '1041125_business_story_4046904.utf8', '1041125_business_story_4046905.utf8', '1041125_business_story_4046906.utf8', '1041125_business_story_4046907.utf8', '1041125_business_story_4046908.utf8', '1041125_business_story_4046909.utf8', '1041125_business_story_4046910.utf8', '1041125_business_story_4046911.utf8', '1041125_business_story_4047192.utf8', '1041126_business_story_4048991.utf8', '1041126_business_story_4049857.utf8', '1041126_business_story_4049942.utf8', '1041126_business_story_4050039.utf8', '1041126_business_story_4050154.utf8', '1041126_business_story_4050349.utf8', '1041126_business_story_4050527.utf8', '1041126_business_story_4050601.utf8', '1041126_business_story_4050830.utf8', '1041126_business_story_4051081.utf8', '1041126_business_story_4051084.utf8', '1041126_business_story_4051236.utf8', '1041126_business_story_4051474.utf8', '1041126_business_story_4051475.utf8', '1041126_business_story_4051476.utf8', '1041126_business_story_4051477.utf8', '1041126_business_story_4051478.utf8', '1041126_business_story_4051479.utf8', '1041126_business_story_4051480.utf8', '1041126_business_story_4051481.utf8', '1041126_business_story_4051657.utf8', '1041127_business_story_4054064.utf8', '1041127_business_story_4054199.utf8', '1041127_business_story_4054351.utf8', '1041127_business_story_4054810.utf8', '1041127_business_story_4055068.utf8', '1041127_business_story_4055139.utf8', '1041127_business_story_4055211.utf8', '1041127_business_story_4055579.utf8', '1041127_business_story_4055580.utf8', '1041127_business_story_4055582.utf8', '1041127_business_story_4055583.utf8', '1041127_business_story_4055584.utf8', '1041127_business_story_4055585.utf8', '1041127_business_story_4055586.utf8', '1041128_business_story_4058700.utf8', '1041128_business_story_4058701.utf8', '1041128_business_story_4058702.utf8', '1041128_business_story_4058703.utf8', '1041128_business_story_4058704.utf8', '1041129_business_story_4055649.utf8', '1041129_business_story_4055650.utf8', '1041129_business_story_4060905.utf8', '1041129_business_story_4061996.utf8', '1041129_business_story_4061997.utf8', '1041129_business_story_4061998.utf8', '1041129_business_story_4061999.utf8', '1041129_business_story_4062000.utf8', '1041129_business_story_4062001.utf8', '1041129_business_story_4062002.utf8', '1041129_business_story_4062003.utf8', '1041129_business_story_4062088.utf8', '1041129_business_story_4062089.utf8', '1041129_business_story_4062090.utf8', '1041129_business_story_4062091.utf8', '1041130_business_story_4049950.utf8', '1041130_business_story_4064305.utf8', '1041130_business_story_4064472.utf8', '1041130_business_story_4064559.utf8', '1041130_business_story_4064581.utf8', '1041130_business_story_4064766.utf8', '1041130_business_story_4065251.utf8', '1041130_business_story_4065456.utf8', '1041130_business_story_4065777.utf8', '1041130_business_story_4065962.utf8', '1041130_business_story_4066275.utf8', '1041130_business_story_4066531.utf8', '1041130_business_story_4066532.utf8', '1041130_business_story_4066540.utf8', '1041130_business_story_4066541.utf8', '1041130_business_story_4066542.utf8', '1041130_business_story_4066543.utf8', '1041130_business_story_4066544.utf8', '1041130_business_story_4066545.utf8', '1041130_business_story_4066608.utf8', '1041130_business_story_4066814.utf8', '1041201_business_story_4068743.utf8', '1041201_business_story_4069588.utf8', '1041201_business_story_4069745.utf8', '1041201_business_story_4070597.utf8', '1041201_business_story_4070712.utf8', '1041201_business_story_4070809.utf8', '1041201_business_story_4070883.utf8', '1041201_business_story_4070936.utf8', '1041201_business_story_4071076.utf8', '1041201_business_story_4071077.utf8', '1041201_business_story_4071078.utf8', '1041201_business_story_4071079.utf8', '1041201_business_story_4071080.utf8', '1041201_business_story_4071081.utf8', '1041201_business_story_4071082.utf8', '1041201_business_story_4071416.utf8', '1041201_business_story_4071417.utf8', '1041202_business_story_4073082.utf8', '1041202_business_story_4073456.utf8', '1041202_business_story_4074294.utf8', '1041202_business_story_4074533.utf8', '1041202_business_story_4074941.utf8', '1041202_business_story_4075002.utf8', '1041202_business_story_4075110.utf8', '1041202_business_story_4075349.utf8', '1041202_business_story_4075356.utf8', '1041202_business_story_4075411.utf8', '1041202_business_story_4075412.utf8', '1041202_business_story_4075413.utf8', '1041202_business_story_4075414.utf8', '1041202_business_story_4075415.utf8', '1041202_business_story_4075416.utf8', '1041202_business_story_4075417.utf8', '1041202_business_story_4075418.utf8', '1041202_business_story_4075494.utf8', '1041202_business_story_4075495.utf8', '1041202_business_story_4075496.utf8', '1041202_business_story_4075497.utf8', '1041202_business_story_4075573.utf8', '1041203_business_story_4077860.utf8', '1041203_business_story_4077914.utf8', '1041203_business_story_4078627.utf8', '1041203_business_story_4079361.utf8', '1041203_business_story_4079445.utf8', '1041203_business_story_4079483.utf8', '1041203_business_story_4079499.utf8', '1041203_business_story_4079959.utf8', '1041203_business_story_4080158.utf8', '1041203_business_story_4080188.utf8', '1041203_business_story_4080189.utf8', '1041203_business_story_4080190.utf8', '1041203_business_story_4080191.utf8', '1041203_business_story_4080192.utf8', '1041203_business_story_4080193.utf8', '1041203_business_story_4080194.utf8', '1041203_business_story_4080195.utf8', '1041203_business_story_4080196.utf8', '1041203_business_story_4080245.utf8', '1041203_business_story_4080246.utf8', '1041203_business_story_4080247.utf8', '1041204_business_story_4082772.utf8', '1041204_business_story_4083545.utf8', '1041204_business_story_4083750.utf8', '1041204_business_story_4083864.utf8', '1041204_business_story_4084114.utf8', '1041204_business_story_4084143.utf8', '1041204_business_story_4084398.utf8', '1041204_business_story_4084401.utf8', '1041204_business_story_4084556.utf8', '1041204_business_story_4085018.utf8', '1041204_business_story_4085019.utf8', '1041204_business_story_4085020.utf8', '1041204_business_story_4085045.utf8', '1041204_business_story_4085046.utf8', '1041204_business_story_4085047.utf8', '1041204_business_story_4085048.utf8', '1041204_business_story_4085050.utf8', '1041204_business_story_4085052.utf8', '1041205_business_story_4088441.utf8', '1041205_business_story_4088442.utf8', '1041205_business_story_4088443.utf8', '1041205_business_story_4088444.utf8', '1041205_business_story_4088445.utf8', '1041205_business_story_4088461.utf8', '1041205_business_story_4088462.utf8', '1041205_business_story_4088463.utf8', '1041206_business_story_4091715.utf8', '1041206_business_story_4091716.utf8', '1041206_business_story_4091717.utf8', '1041206_business_story_4091718.utf8', '1041206_business_story_4091719.utf8', '1041206_business_story_4091974.utf8', '1041206_business_story_4091976.utf8', '1041206_business_story_4091977.utf8', '1041206_business_story_4091978.utf8', '1041207_business_story_4093615.utf8', '1041207_business_story_4094153.utf8', '1041207_business_story_4094429.utf8', '1041207_business_story_4095406.utf8', '1041207_business_story_4095535.utf8', '1041207_business_story_4095715.utf8', '1041207_business_story_4095731.utf8', '1041207_business_story_4095767.utf8', '1041207_business_story_4095812.utf8', '1041207_business_story_4095830.utf8', '1041207_business_story_4095831.utf8', '1041207_business_story_4095832.utf8', '1041207_business_story_4095869.utf8', '1041207_business_story_4095870.utf8', '1041207_business_story_4095871.utf8', '1041207_business_story_4095872.utf8', '1041207_business_story_4095873.utf8', '1041207_business_story_4095874.utf8', '1041207_business_story_4095875.utf8', '1041207_business_story_4095877.utf8', '1041207_business_story_4096144.utf8', '1041208_business_story_4093886.utf8', '1041208_business_story_4098553.utf8', '1041208_business_story_4099033.utf8', '1041208_business_story_4099392.utf8', '1041208_business_story_4099770.utf8', '1041208_business_story_4100140.utf8', '1041208_business_story_4100153.utf8', '1041208_business_story_4100270.utf8', '1041208_business_story_4100496.utf8', '1041208_business_story_4100497.utf8', '1041208_business_story_4100498.utf8', '1041208_business_story_4100553.utf8', '1041208_business_story_4100554.utf8', '1041208_business_story_4100555.utf8', '1041208_business_story_4100556.utf8', '1041208_business_story_4100557.utf8', '1041208_business_story_4100558.utf8', '1041208_business_story_4100564.utf8', '1041208_business_story_4100565.utf8', '1041208_business_story_4100637.utf8', '1041208_business_story_4100668.utf8', '1041209_business_story_4102883.utf8', '1041209_business_story_4103183.utf8', '1041209_business_story_4103205.utf8', '1041209_business_story_4103326.utf8', '1041209_business_story_4103940.utf8', '1041209_business_story_4104957.utf8', '1041209_business_story_4104958.utf8', '1041209_business_story_4104959.utf8', '1041209_business_story_4105021.utf8', '1041209_business_story_4105116.utf8', '1041209_business_story_4105465.utf8', '1041209_business_story_4105466.utf8', '1041209_business_story_4105467.utf8', '1041209_business_story_4105468.utf8', '1041209_business_story_4105469.utf8', '1041209_business_story_4105470.utf8', '1041209_business_story_4105471.utf8', '1041209_business_story_4105472.utf8', '1041209_business_story_4105473.utf8', '1041210_business_story_4107927.utf8', '1041210_business_story_4108267.utf8', '1041210_business_story_4108500.utf8', '1041210_business_story_4108799.utf8', '1041210_business_story_4109418.utf8', '1041210_business_story_4109519.utf8', '1041210_business_story_4109593.utf8', '1041210_business_story_4109687.utf8', '1041210_business_story_4109883.utf8', '1041210_business_story_4110034.utf8', '1041210_business_story_4110066.utf8', '1041210_business_story_4110067.utf8', '1041210_business_story_4110068.utf8', '1041210_business_story_4110069.utf8', '1041210_business_story_4110070.utf8', '1041210_business_story_4110071.utf8', '1041210_business_story_4111358.utf8', '1041211_business_story_4112210.utf8', '1041211_business_story_4112675.utf8', '1041211_business_story_4112830.utf8', '1041211_business_story_4112859.utf8', '1041211_business_story_4113158.utf8', '1041211_business_story_4113203.utf8', '1041211_business_story_4113436.utf8', '1041211_business_story_4113629.utf8', '1041211_business_story_4113780.utf8', '1041211_business_story_4114267.utf8', '1041211_business_story_4114365.utf8', '1041211_business_story_4114562.utf8', '1041211_business_story_4114564.utf8', '1041211_business_story_4114565.utf8', '1041211_business_story_4114566.utf8', '1041211_business_story_4114567.utf8', '1041211_business_story_4114568.utf8', '1041211_business_story_4114569.utf8', '1041211_business_story_4114570.utf8', '1041211_business_story_4114571.utf8', '1041212_business_story_4118263.utf8', '1041212_business_story_4118264.utf8', '1041212_business_story_4118265.utf8', '1041212_business_story_4118266.utf8', '1041212_business_story_4118289.utf8', '1041212_business_story_4118290.utf8', '1041212_business_story_4118291.utf8', '1041212_business_story_4118292.utf8', '1041212_business_story_4118293.utf8', '1041213_business_story_4121473.utf8', '1041213_business_story_4121474.utf8', '1041213_business_story_4121475.utf8', '1041213_business_story_4121476.utf8', '1041213_business_story_4121477.utf8', '1041213_business_story_4121478.utf8', '1041213_business_story_4121479.utf8', '1041213_business_story_4121480.utf8', '1041213_business_story_4121499.utf8', '1041213_business_story_4121500.utf8', '1041213_business_story_4121501.utf8', '1041213_business_story_4121502.utf8', '1041213_business_story_4121503.utf8', '1041213_business_story_4121981.utf8', '1041213_business_story_4121982.utf8', '1041213_business_story_4121983.utf8', '1041213_business_story_4121984.utf8', '1041214_business_story_4123506.utf8', '1041214_business_story_4124349.utf8', '1041214_business_story_4124612.utf8', '1041214_business_story_4124704.utf8', '1041214_business_story_4124872.utf8', '1041214_business_story_4125022.utf8', '1041214_business_story_4125236.utf8', '1041214_business_story_4125410.utf8', '1041214_business_story_4125469.utf8', '1041214_business_story_4125470.utf8', '1041214_business_story_4125697.utf8', '1041214_business_story_4125699.utf8', '1041214_business_story_4125700.utf8', '1041214_business_story_4125701.utf8', '1041214_business_story_4125702.utf8', '1041214_business_story_4125761.utf8', '1041214_business_story_4125997.utf8', '1041214_business_story_4126021.utf8', '1041215_business_story_4127941.utf8', '1041215_business_story_4127970.utf8', '1041215_business_story_4128083.utf8', '1041215_business_story_4128327.utf8', '1041215_business_story_4128604.utf8', '1041215_business_story_4129013.utf8', '1041215_business_story_4129370.utf8', '1041215_business_story_4129511.utf8', '1041215_business_story_4129518.utf8', '1041215_business_story_4129730.utf8', '1041215_business_story_4129785.utf8', '1041215_business_story_4130041.utf8', '1041215_business_story_4130042.utf8', '1041215_business_story_4130043.utf8', '1041215_business_story_4130053.utf8', '1041215_business_story_4130054.utf8', '1041215_business_story_4130055.utf8', '1041215_business_story_4130056.utf8', '1041215_business_story_4130057.utf8', '1041215_business_story_4130058.utf8', '1041215_business_story_4130059.utf8', '1041216_business_story_4133092.utf8', '1041216_business_story_4133497.utf8', '1041216_business_story_4133629.utf8', '1041216_business_story_4133675.utf8', '1041216_business_story_4133728.utf8', '1041216_business_story_4133832.utf8', '1041216_business_story_4133869.utf8', '1041216_business_story_4134085.utf8', '1041216_business_story_4134378.utf8', '1041216_business_story_4134392.utf8', '1041216_business_story_4134449.utf8', '1041216_business_story_4134659.utf8', '1041216_business_story_4134660.utf8', '1041216_business_story_4134661.utf8', '1041216_business_story_4134662.utf8', '1041216_business_story_4134663.utf8', '1041216_business_story_4134664.utf8', '1041216_business_story_4134665.utf8', '1041216_business_story_4134667.utf8', '1041217_business_story_4124375.utf8', '1041217_business_story_4137132.utf8', '1041217_business_story_4137265.utf8', '1041217_business_story_4137933.utf8', '1041217_business_story_4138177.utf8', '1041217_business_story_4138546.utf8', '1041217_business_story_4138632.utf8', '1041217_business_story_4138822.utf8', '1041217_business_story_4139366.utf8', '1041217_business_story_4139480.utf8', '1041217_business_story_4139481.utf8', '1041217_business_story_4139482.utf8', '1041217_business_story_4139483.utf8', '1041217_business_story_4139486.utf8', '1041217_business_story_4139487.utf8', '1041217_business_story_4139488.utf8', '1041218_business_story_4142002.utf8', '1041218_business_story_4142365.utf8', '1041218_business_story_4142553.utf8', '1041218_business_story_4143429.utf8', '1041218_business_story_4143477.utf8', '1041218_business_story_4143856.utf8', '1041218_business_story_4143934.utf8', '1041218_business_story_4143996.utf8', '1041218_business_story_4144014.utf8', '1041218_business_story_4144017.utf8', '1041218_business_story_4144018.utf8', '1041218_business_story_4144019.utf8', '1041218_business_story_4144020.utf8', '1041218_business_story_4144021.utf8', '1041219_business_story_4123927.utf8', '1041219_business_story_4146279.utf8', '1041219_business_story_4146282.utf8', '1041219_business_story_4146324.utf8', '1041219_business_story_4146719.utf8', '1041219_business_story_4147427.utf8', '1041219_business_story_4147428.utf8', '1041219_business_story_4147429.utf8', '1041219_business_story_4147430.utf8', '1041219_business_story_4147431.utf8', '1041219_business_story_4148573.utf8', '1041220_business_story_4148021.utf8', '1041220_business_story_4148022.utf8', '1041220_business_story_4148023.utf8', '1041220_business_story_4150611.utf8', '1041220_business_story_4150612.utf8', '1041220_business_story_4150613.utf8', '1041220_business_story_4150614.utf8', '1041220_business_story_4150780.utf8', '1041220_business_story_4150781.utf8', '1041220_business_story_4150782.utf8', '1041220_business_story_4150783.utf8', '1041220_business_story_4150784.utf8', '1041220_business_story_4150785.utf8', '1041220_business_story_4150786.utf8', '1041221_business_story_4152696.utf8', '1041221_business_story_4152764.utf8', '1041221_business_story_4153247.utf8', '1041221_business_story_4153682.utf8', '1041221_business_story_4154343.utf8', '1041221_business_story_4154401.utf8', '1041221_business_story_4154447.utf8', '1041221_business_story_4154515.utf8', '1041221_business_story_4154905.utf8', '1041221_business_story_4154925.utf8', '1041221_business_story_4155032.utf8', '1041221_business_story_4155033.utf8', '1041221_business_story_4155034.utf8', '1041221_business_story_4155035.utf8', '1041221_business_story_4155036.utf8', '1041221_business_story_4155037.utf8', '1041221_business_story_4155038.utf8', '1041221_business_story_4155044.utf8', '1041221_business_story_4155241.utf8', '1041221_business_story_4155255.utf8', '1041221_business_story_4155570.utf8', '1041221_business_story_4155571.utf8', '1041221_business_story_4155572.utf8', '1041221_business_story_4155575.utf8', '1041222_business_story_4157222.utf8', '1041222_business_story_4157304.utf8', '1041222_business_story_4158076.utf8', '1041222_business_story_4158218.utf8', '1041222_business_story_4158585.utf8', '1041222_business_story_4158702.utf8', '1041222_business_story_4158704.utf8', '1041222_business_story_4158752.utf8', '1041222_business_story_4158889.utf8', '1041222_business_story_4159084.utf8', '1041222_business_story_4159128.utf8', '1041222_business_story_4159293.utf8', '1041222_business_story_4159294.utf8', '1041222_business_story_4159295.utf8', '1041222_business_story_4159296.utf8', '1041222_business_story_4159297.utf8', '1041222_business_story_4159298.utf8', '1041222_business_story_4159299.utf8', '1041222_business_story_4159300.utf8', '1041222_business_story_4159339.utf8', '1041223_business_story_4162182.utf8', '1041223_business_story_4163612.utf8', '1041223_business_story_4163736.utf8', '1041223_business_story_4163737.utf8', '1041223_business_story_4163738.utf8', '1041223_business_story_4163739.utf8', '1041223_business_story_4163749.utf8', '1041223_business_story_4163843.utf8', '1041223_business_story_4163869.utf8', '1041223_business_story_4163870.utf8', '1041223_business_story_4163871.utf8', '1041223_business_story_4163872.utf8', '1041223_business_story_4163873.utf8', '1041223_business_story_4163874.utf8', '1041223_business_story_4163875.utf8', '1041223_business_story_4164067.utf8', '1041223_business_story_4164146.utf8', '1041223_business_story_4164352.utf8', '1041223_business_story_4164552.utf8', '1041223_business_story_4164553.utf8', '1041223_business_story_4164698.utf8', '1041224_business_story_4166121.utf8', '1041224_business_story_4166698.utf8', '1041224_business_story_4167255.utf8', '1041224_business_story_4167411.utf8', '1041224_business_story_4167789.utf8', '1041224_business_story_4168183.utf8', '1041224_business_story_4168320.utf8', '1041224_business_story_4168323.utf8', '1041224_business_story_4168368.utf8', '1041224_business_story_4168537.utf8', '1041224_business_story_4168639.utf8', '1041224_business_story_4168640.utf8', '1041224_business_story_4168641.utf8', '1041224_business_story_4168643.utf8', '1041224_business_story_4168644.utf8', '1041224_business_story_4168645.utf8', '1041224_business_story_4168646.utf8', '1041224_business_story_4168647.utf8', '1041224_business_story_4168648.utf8', '1041224_business_story_4168686.utf8', '1041225_business_story_4170651.utf8', '1041225_business_story_4171198.utf8', '1041225_business_story_4171521.utf8', '1041225_business_story_4171645.utf8', '1041225_business_story_4171849.utf8', '1041225_business_story_4171954.utf8', '1041225_business_story_4172137.utf8', '1041225_business_story_4172485.utf8', '1041225_business_story_4172608.utf8', '1041225_business_story_4172795.utf8', '1041225_business_story_4172880.utf8', '1041225_business_story_4172881.utf8', '1041225_business_story_4172882.utf8', '1041225_business_story_4172883.utf8', '1041225_business_story_4172884.utf8', '1041225_business_story_4172885.utf8', '1041225_business_story_4172886.utf8', '1041225_business_story_4172887.utf8', '1041225_business_story_4172888.utf8', '1041225_business_story_4172889.utf8', '1041226_business_story_4175696.utf8', '1041226_business_story_4175697.utf8', '1041226_business_story_4175698.utf8', '1041226_business_story_4175699.utf8', '1041226_business_story_4175779.utf8', '1041226_business_story_4175780.utf8', '1041226_business_story_4176173.utf8', '1041226_business_story_4176174.utf8', '1041226_business_story_4176175.utf8', '1041226_business_story_4176176.utf8', '1041226_business_story_4176556.utf8', '1041227_business_story_4178503.utf8', '1041227_business_story_4178504.utf8', '1041227_business_story_4178505.utf8', '1041227_business_story_4178506.utf8', '1041227_business_story_4178546.utf8', '1041227_business_story_4178933.utf8', '1041227_business_story_4178934.utf8', '1041227_business_story_4178936.utf8', '1041227_business_story_4178937.utf8', '1041227_business_story_4178938.utf8', '1041227_business_story_4178939.utf8', '1041227_business_story_4178940.utf8', '1041227_business_story_4178941.utf8', '1041228_business_story_4157868.utf8', '1041228_business_story_4181187.utf8', '1041228_business_story_4181532.utf8', '1041228_business_story_4181640.utf8', '1041228_business_story_4182031.utf8', '1041228_business_story_4182221.utf8', '1041228_business_story_4182222.utf8', '1041228_business_story_4182845.utf8', '1041228_business_story_4183127.utf8', '1041228_business_story_4183128.utf8', '1041228_business_story_4183129.utf8', '1041228_business_story_4183543.utf8', '1041228_business_story_4183603.utf8', '1041228_business_story_4183606.utf8', '1041228_business_story_4183607.utf8', '1041228_business_story_4183608.utf8', '1041228_business_story_4183609.utf8', '1041228_business_story_4183610.utf8', '1041228_business_story_4183611.utf8', '1041229_business_story_4186192.utf8', '1041229_business_story_4187047.utf8', '1041229_business_story_4187294.utf8', '1041229_business_story_4187295.utf8', '1041229_business_story_4187296.utf8', '1041229_business_story_4187297.utf8', '1041229_business_story_4187299.utf8', '1041229_business_story_4187300.utf8', '1041229_business_story_4187305.utf8', '1041229_business_story_4187306.utf8', '1041229_business_story_4187307.utf8', '1041229_business_story_4187559.utf8', '1041230_business_story_4175314.utf8', '1041230_business_story_4186034.utf8', '1041230_business_story_4189538.utf8', '1041230_business_story_4190306.utf8', '1041230_business_story_4190529.utf8', '1041230_business_story_4190583.utf8', '1041230_business_story_4190737.utf8', '1041230_business_story_4190816.utf8', '1041230_business_story_4190951.utf8', '1041230_business_story_4191400.utf8', '1041230_business_story_4191401.utf8', '1041230_business_story_4191403.utf8', '1041230_business_story_4191431.utf8', '1041230_business_story_4191445.utf8', '1041230_business_story_4191446.utf8', '1041230_business_story_4191448.utf8', '1041230_business_story_4191449.utf8', '1041230_business_story_4191450.utf8', '1041230_business_story_4191451.utf8', '1041230_business_story_4191452.utf8', '1041230_business_story_4191453.utf8', '1041230_business_story_4191454.utf8', '1041231_business_story_4193059.utf8', '1041231_business_story_4193502.utf8', '1041231_business_story_4193957.utf8', '1041231_business_story_4194149.utf8', '1041231_business_story_4194403.utf8', '1041231_business_story_4194436.utf8', '1041231_business_story_4194656.utf8', '1041231_business_story_4194726.utf8', '1041231_business_story_4194811.utf8', '1041231_business_story_4194964.utf8', '1041231_business_story_4194965.utf8', '1041231_business_story_4194966.utf8', '1041231_business_story_4194967.utf8', '1041231_business_story_4194968.utf8', '1041231_business_story_4194969.utf8']\n"
          ],
          "name": "stdout"
        }
      ]
    },
    {
      "cell_type": "markdown",
      "metadata": {
        "id": "_HR2T3cWy9ox"
      },
      "source": [
        "#Preprocessing all documents individually and storing preprocessed data at respective index as a list of lists.\r\n",
        "\r\n",
        "*   Preprocess each document and store the preprocessed data in string form in corpus list item\r\n",
        "*   After this step, **corpus[i]** contains preprocessed data of **document of index i**.\r\n",
        "\r\n"
      ]
    },
    {
      "cell_type": "code",
      "metadata": {
        "id": "n8HZnaAFy9SN"
      },
      "source": [
        "k=0\r\n",
        "corpus = []\r\n",
        "for i in sorted(files):\r\n",
        "\r\n",
        "   \r\n",
        "  obj = open('/content/business/' + i)\r\n",
        "  dat = obj.read()\r\n",
        "  soup = BeautifulSoup(dat)\r\n",
        "  dat = soup.find('text').text    # storing file content into dat using BeautifulSoup\r\n",
        "\r\n",
        "# remove puntuation\r\n",
        "  data = remove_punc(dat)\r\n",
        "\r\n",
        "# convert text into tokens\r\n",
        "  tokens = tokenization(data)\r\n",
        "\r\n",
        "# converting all tokens into lowercase\r\n",
        "  tokens = [item.lower() for item in tokens]\r\n",
        "\r\n",
        "# removing stopwords from tokens generated\r\n",
        "  tokens = remove_stopwards(tokens)\r\n",
        "\r\n",
        "# Lemmatization to convert original token into it's root form\r\n",
        "  stem_lemma = lemmatization(tokens)\r\n",
        "\r\n",
        "# Combining all terms in its root form into single string\r\n",
        "  str1 = ' '.join(stem_lemma)\r\n",
        "\r\n",
        "# Storing previous step's string at kth index of corpus list\r\n",
        "  corpus.insert(k,str1)\r\n",
        "  k = k + 1"
      ],
      "execution_count": 6,
      "outputs": []
    },
    {
      "cell_type": "markdown",
      "metadata": {
        "id": "45McdKvejdWC"
      },
      "source": [
        "For e.g corpus[0] has preprocessed data of 1st document which would look like below shown."
      ]
    },
    {
      "cell_type": "code",
      "metadata": {
        "colab": {
          "base_uri": "https://localhost:8080/",
          "height": 135
        },
        "id": "r2BXyC-WKMG4",
        "outputId": "d1ccb439-8420-4685-da6a-7ad21ce72ffd"
      },
      "source": [
        "corpus[0]"
      ],
      "execution_count": 7,
      "outputs": [
        {
          "output_type": "execute_result",
          "data": {
            "application/vnd.google.colaboratory.intrinsic+json": {
              "type": "string"
            },
            "text/plain": [
              "'telegraph calcutta business corporate brief kanoria chemicals industries invest rs crore set mw power plant chemical unit target rs crore turnover thermal power plant would set outlay rs crore chloralkali plant would set cost rs crore chairman manage director r v kanoria say hummingbird ltd lead global provider integrate enterprise content management ecm solutions launch comprehensive content library consolidation solution law firm part enterprise content integration solution solution design help law firm library consolidation efforts minimise time require consolidation ensure complete data integrity availability throughout process canon image technology company draw plan capture per cent rapidly grow market colour laser multifunction devices india market estimate rs crore sierra atlantic lead player offshoring enterprise applications assess fully compliant maturity level five software engineer institute sei capability mature model cmm hikal ltd enter longterm arrangement bayer cropscience ag large crop protection company manufacture supply key agrochemical intermediate hikal set manufacture facility mahad maharashtra manufacture products paltech cool tower amp equipments ltd iso company bag national award quality products small scale sector manage director ceo h p yadav receive award prime minister manmohan singh award function hold recently new delhi domestic resources department back office operations customer relationship management cell industrial development bank india idbi accredit iso certification quality system service loan raise idbi flexibonds idbi omni bond commercial paper certificate deposit corporate deposit slr global entrepolis singapore ges island nations annual mega business network event organise singapore economic development board hold october india strongly represent meet tap business potential advertisement'"
            ]
          },
          "metadata": {
            "tags": []
          },
          "execution_count": 7
        }
      ]
    },
    {
      "cell_type": "markdown",
      "metadata": {
        "id": "6JpX9jqylg1m"
      },
      "source": [
        "# **Using Sklearn**"
      ]
    },
    {
      "cell_type": "code",
      "metadata": {
        "colab": {
          "base_uri": "https://localhost:8080/"
        },
        "id": "AaVqsBzYC5u3",
        "outputId": "630fd93b-2e34-451c-a01b-af8911eeb5f3"
      },
      "source": [
        "# use standard approach for tf-idf representation\r\n",
        "\r\n",
        "from sklearn.feature_extraction.text import TfidfVectorizer \r\n",
        "tfidf = TfidfVectorizer()               # object creation\r\n",
        "X = tfidf.fit_transform(corpus)                       # use fit_transform() method of TfidfVectorizer to fit medal on data\r\n",
        "print(\"Terms after tf-idf matrix process are : \\n\",tfidf.get_feature_names())      # getting terms obtained after tf-idf formation process\r\n"
      ],
      "execution_count": 8,
      "outputs": [
        {
          "output_type": "stream",
          "text": [
            "Some of the Terms after tf-idf matrix process are : \n",
            " ['aa', 'aaa', 'aaaind', 'aaarated', 'aaastable', 'aad', 'aai', 'aaifr', 'aalayance', 'aamir', 'aarohi', 'aaron', 'aarvee', 'aastable', 'aazmao', 'ab', 'aback', 'abacus', 'abandon', 'abani', 'abarrel', 'abate', 'abb', 'abbots', 'abbott', 'abbreviate', 'abbs', 'abc', 'abcs', 'abdomen', 'abdul', 'abdullah', 'abe', 'abel', 'aber', 'aberdeen', 'aberration', 'abeyance', 'abhang', 'abhay', 'abhijit', 'abhiyan', 'abide', 'abilities', 'ability', 'able', 'ablr', 'abn', 'abnormal', 'abolish', 'abolishment', 'abolition', 'abort', 'abovementioned', 'abp', 'abrasive', 'abrasives', 'abreast', 'abroad', 'abroadstanchart', 'abrupt', 'abs', 'absence', 'absences', 'absent', 'absolute', 'absolutely', 'acc', 'accede', 'accelerate', 'acceleration', 'accelerator', 'accent', 'accept', 'acceptability', 'acceptable', 'acceptance', 'access', 'accessible', 'accession', 'accessories', 'accident', 'accidental', 'accidents', 'accolades', 'accommodate', 'accommodation', 'accompany', 'accomplices', 'accomplish', 'accor', 'accord', 'accordance', 'accordian', 'accordingly', 'accost', 'account', 'accountability', 'accountable', 'accountant', 'accountants', 'accountfree', 'accountholders', 'accredit', 'accreditation', 'accretion', 'accrual', 'accruals', 'accrue', 'accs', 'accuchek', 'accumulate', 'accumulation', 'accuracy', 'accurate', 'accurately', 'accusation', 'accuse', 'accustom', 'ace', 'acelere', 'acer', 'acers', 'acharya', 'achievable', 'achieve', 'achievement', 'achievements', 'achievers', 'acid', 'acknowledge', 'acknowledgement', 'acquaint', 'acquire', 'acquirer', 'acquirers', 'acquisition', 'acquisitions', 'acquisitionsrates', 'acquistions', 'acraf', 'acre', 'acreage', 'acreages', 'acres', 'acrimony', 'across', 'acrosstheboard', 'acs', 'act', 'action', 'actis', 'activa', 'activate', 'activation', 'active', 'actively', 'activist', 'activists', 'activities', 'activity', 'actor', 'actress', 'actual', 'actually', 'actuarial', 'actuaries', 'acturial', 'acumen', 'acute', 'ad', 'adam', 'adamant', 'adams', 'adani', 'adapt', 'adaptability', 'adarsh', 'adb', 'adbs', 'adc', 'add', 'addedceo', 'addeddr', 'addedimf', 'addedindian', 'addedoriental', 'addictive', 'addition', 'additional', 'additionally', 'additions', 'addon', 'address', 'addressable', 'adecco', 'adept', 'adeptly', 'adequacy', 'adequate', 'adequately', 'adex', 'adgudged', 'adhere', 'adherence', 'adhikari', 'adi', 'adiseshann', 'adish', 'aditya', 'adjoin', 'adjourn', 'adjudge', 'adjudication', 'adjudicatory', 'adjunct', 'adjust', 'adjustment', 'adjustments', 'adlm', 'administer', 'administration', 'administrational', 'administrations', 'administrative', 'administrator', 'administratorgeneral', 'administrators', 'admiration', 'admire', 'admirers', 'admission', 'admit', 'adobe', 'adopt', 'adopters', 'adoption', 'adorn', 'adr', 'adrgdr', 'adrian', 'adrs', 'adrts', 'ads', 'adsl', 'adspend', 'adulterate', 'adulteration', 'adv', 'advalorem', 'advance', 'advancement', 'advantage', 'advantageous', 'adventure', 'adversary', 'adverse', 'adversely', 'advertise', 'advertisement', 'advertisements', 'advice', 'advisable', 'advise', 'adviser', 'advisers', 'advisor', 'advisorcautious', 'advisories', 'advisors', 'advisory', 'advocate', 'aegis', 'aerens', 'aero', 'aeronautical', 'aeronautics', 'aerospace', 'aes', 'aesthetic', 'af', 'affair', 'affairs', 'affect', 'affidavit', 'affidavits', 'affiliate', 'affiliation', 'affiliative', 'affinity', 'affirmative', 'affluent', 'afford', 'affordability', 'affordable', 'afghanistan', 'aficionados', 'afire', 'afloat', 'afoot', 'aforesaid', 'afp', 'afraid', 'aframax', 'afresh', 'africa', 'africabased', 'african', 'africas', 'aftek', 'afterall', 'aftercooled', 'afterhours', 'aftermath', 'afternoon', 'aftersale', 'aftersales', 'aftershave', 'aftertax', 'afterwards', 'ag', 'aga', 'agarbattis', 'agartala', 'agarwal', ', 'agog', 'agonies', 'agonise', 'agony', 'agr', 'agra', 'agrawal', 'agree', 'agreeable', 'agreedupon', 'agreement', 'agreements', 'agreementthe', 'agri', 'agribiotech', 'agribusiness', 'agriclinics', 'agricola', 'agricultural', 'agriculture', 'agriexport', 'agrim', 'agro', 'agrobased', 'agrobusiness', 'agrobusinesses', 'agrochemical', 'agrochemicals', 'agroindia', 'agroindustrial', 'agroprocessing', 'agroproducts', 'agrosciences', 'ags', 'ahead', 'ahemadabad', 'ahemedabad', 'ahluwalia', 'ahluwalias', 'ahmad', 'ahmed', 'ahmedabad', 'ahmedabadbased', 'ahmedabadmumbai', 'ahmednagar', 'ahn', 'ahooja', 'ai', 'aia', 'aibea', 'aibheel', 'aicl', 'aid', 'aide', 'aig', 'aigfp', 'aigs', 'ail', 'ailments', 'aim', 'aint', 'aipma', 'aiptek', 'air', 'airborne', 'airbus', 'airbuses', 'airbuss', 'aircel', 'aircheck', 'airconditioned', 'airconditioner', 'airconditioners', 'airconditioning', 'aircraft', 'aircraftmaker', 'aircraftmakers', 'airfare', 'airframes', 'airfreight', 'airindia', 'airindias', 'airline', 'airlineamex', 'airliner', 'airlines', 'airlinesamex', 'airplanes', 'airpocket', 'airport', 'airportrevamp', 'airports', 'airpurification', 'airpurifiers', 'airrbof', 'airside', 'airspace', 'airtel', 'airtels', 'airteltoairtel', 'airwave', 'airwaves', 'airways', 'airworthiness', 'ais', 'aishwariya', 'aiyar', 'aiyars', 'aj', 'ajai', 'ajay', 'ajeet', 'ajit', 'ajita', 'ajith', 'akash', 'akbar', 'akhil', 'akhnoor', 'akhtar', 'akin', 'akorn', 'aksh', 'akshay', 'akshaya', 'alabbar', 'aladdin', 'alagappan', 'alagh', 'alain', 'alameda', 'alan', 'alapietil', 'alarm', 'albany', 'albeit', 'alcan', 'alcatel', 'alchemist', 'alcobev', 'alcohol', 'alcoholic', 'alembic', 'alert', 'alex', 'alexander', 'alfa', 'alfl', 'alfredo', 'algeria', 'algerian', 'algorithm', 'algorithms', 'alhuwalia', 'ali', 'alien', 'alienate', 'alight', 'align', 'alignment', 'alimony', 'alipore', 'alirio', 'alistair', 'alitalia', 'alive', 'alkalies', 'allahabad', 'allay', 'allbank', 'allcash', 'allclear', 'allegation', 'allegations', 'allege', 'allegedly', 'alleviate', 'alliance', 'alliances', 'allianz', 'allimportant', 'allinclusive', 'allindia', 'allinones', 'allocate', 'allocation', 'allocations', 'allot', 'allotment', 'allotments', 'alloutwar', 'allow', 'allowance', 'alloy', 'allparty', 'allpowerful', 'allpurpose', 'allround', 'alls', 'allsteel', 'alltime', 'allude', 'allure', 'alluser', 'allwyn', 'allwynnissan', 'ally', 'alm', 'almaty', 'almost', 'alnaimi', 'alo', 'aloebased', 'alok', 'aloka', 'alokananda', 'alone', 'along', 'alongside', 'alongwith', 'alpha', 'alpharma', 'alps', 'already', 'alreadyannounced', 'alright', 'also', 'alstom', 'altaf', 'altair', 'altar', 'alter', 'alteration', 'alternate', 'alternative', 'alternatively', 'alternatives', 'alternativeshow', 'although', 'alticor', 'alto', 'altogether', 'altos', 'alumina', 'aluminim', 'aluminium', 'aluminiumforged', 'aluminiumtechnik', 'aluminum', 'alumni', 'aluplast', 'alvarado', 'alwar', 'always', 'alwayson', 'amabattur', 'amadeus', 'amalgamate', 'amalgamation', 'amalgamations', 'aman', 'amanulla', 'amar', 'amara', 'amarendu', 'amarkantak', 'amartya', 'amaury', 'amaze', 'amazoncom', 'ambalal'],
          "name": "stdout"
        }
      ]
    },
    {
      "cell_type": "markdown",
      "metadata": {
        "id": "90QRbWpOil0i"
      },
      "source": [
        "# **Shape of Term-Document Matrix formed using Sklearn library**"
      ]
    },
    {
      "cell_type": "code",
      "metadata": {
        "colab": {
          "base_uri": "https://localhost:8080/"
        },
        "id": "Dh-2CdH-io28",
        "outputId": "862fad0d-d32d-4431-8f72-4548c660b9b3"
      },
      "source": [
        "print(\"Shape of Term-Document Matrix is : \",X.shape)"
      ],
      "execution_count": 9,
      "outputs": [
        {
          "output_type": "stream",
          "text": [
            "Shape of Term-Document Matrix is :  (1994, 20044)\n"
          ],
          "name": "stdout"
        }
      ]
    },
    {
      "cell_type": "markdown",
      "metadata": {
        "id": "Sbg78FOcitQ0"
      },
      "source": [
        "Converting X into Pandas dataframe"
      ]
    },
    {
      "cell_type": "code",
      "metadata": {
        "id": "qhAKquiREX6X"
      },
      "source": [
        "df_X = pd.DataFrame(data = X.toarray(),index = sorted(files),columns = tfidf.get_feature_names())"
      ],
      "execution_count": 10,
      "outputs": []
    },
    {
      "cell_type": "code",
      "metadata": {
        "id": "JIAqrkhOEvV8",
        "colab": {
          "base_uri": "https://localhost:8080/"
        },
        "outputId": "979afbf3-ac8b-486a-9d46-f3c1ac03ea15"
      },
      "source": [
        "print(df_X)"
      ],
      "execution_count": 11,
      "outputs": [
        {
          "output_type": "stream",
          "text": [
            "                                      aa  aaa  ...  zweigniederlassung  zydus\n",
            "1040901_business_story_3700171.utf8  0.0  0.0  ...                 0.0    0.0\n",
            "1040901_business_story_3700827.utf8  0.0  0.0  ...                 0.0    0.0\n",
            "1040901_business_story_3701515.utf8  0.0  0.0  ...                 0.0    0.0\n",
            "1040901_business_story_3701518.utf8  0.0  0.0  ...                 0.0    0.0\n",
            "1040901_business_story_3701887.utf8  0.0  0.0  ...                 0.0    0.0\n",
            "...                                  ...  ...  ...                 ...    ...\n",
            "1041231_business_story_4194965.utf8  0.0  0.0  ...                 0.0    0.0\n",
            "1041231_business_story_4194966.utf8  0.0  0.0  ...                 0.0    0.0\n",
            "1041231_business_story_4194967.utf8  0.0  0.0  ...                 0.0    0.0\n",
            "1041231_business_story_4194968.utf8  0.0  0.0  ...                 0.0    0.0\n",
            "1041231_business_story_4194969.utf8  0.0  0.0  ...                 0.0    0.0\n",
            "\n",
            "[1994 rows x 20044 columns]\n"
          ],
          "name": "stdout"
        }
      ]
    },
    {
      "cell_type": "code",
      "metadata": {
        "id": "SCSD_qxrF9Cx",
        "colab": {
          "base_uri": "https://localhost:8080/"
        },
        "outputId": "898f0976-9d8e-4602-85f8-6688a1f52fd8"
      },
      "source": [
        "top_5_doc = sorted(files)[:5]\r\n",
        "top_5_doc"
      ],
      "execution_count": 12,
      "outputs": [
        {
          "output_type": "execute_result",
          "data": {
            "text/plain": [
              "['1040901_business_story_3700171.utf8',\n",
              " '1040901_business_story_3700827.utf8',\n",
              " '1040901_business_story_3701515.utf8',\n",
              " '1040901_business_story_3701518.utf8',\n",
              " '1040901_business_story_3701887.utf8']"
            ]
          },
          "metadata": {
            "tags": []
          },
          "execution_count": 12
        }
      ]
    },
    {
      "cell_type": "code",
      "metadata": {
        "id": "pY6WBHsjHWqf",
        "colab": {
          "base_uri": "https://localhost:8080/"
        },
        "outputId": "a1c15f6b-f6d5-44dd-dd2b-7640c9d9d6be"
      },
      "source": [
        "type(df_X.sort_index()[:5])"
      ],
      "execution_count": 13,
      "outputs": [
        {
          "output_type": "execute_result",
          "data": {
            "text/plain": [
              "pandas.core.frame.DataFrame"
            ]
          },
          "metadata": {
            "tags": []
          },
          "execution_count": 13
        }
      ]
    },
    {
      "cell_type": "markdown",
      "metadata": {
        "id": "IEf81em3hgbk"
      },
      "source": [
        "#**Q4 - First 5 documents TOP 5 terms and their tf-idf scores obtained using Sklearn library**"
      ]
    },
    {
      "cell_type": "code",
      "metadata": {
        "colab": {
          "base_uri": "https://localhost:8080/"
        },
        "id": "wCXRq9m95c2B",
        "outputId": "b9c6e3c9-c923-481c-e07f-3bebe671d981"
      },
      "source": [
        "for i in range(5):\r\n",
        "  print(str(i+1) + \" document's top 5 words and their tf-idf score are as follows\\n\")\r\n",
        "  print(\"\\nWords  |  Tf-idf Scores\\n\")\r\n",
        "  print((df_X.loc[top_5_doc[i]]).sort_values(ascending = False)[:5],\"\\n\\n\")"
      ],
      "execution_count": 14,
      "outputs": [
        {
          "output_type": "stream",
          "text": [
            "1 document's top 5 words and their tf-idf score are as follows\n",
            "\n",
            "\n",
            "Words  |  Tf-idf Scores\n",
            "\n",
            "consolidation    0.181328\n",
            "content          0.178707\n",
            "kanoria          0.178479\n",
            "idbi             0.176259\n",
            "hikal            0.172957\n",
            "Name: 1040901_business_story_3700171.utf8, dtype: float64 \n",
            "\n",
            "\n",
            "2 document's top 5 words and their tf-idf score are as follows\n",
            "\n",
            "\n",
            "Words  |  Tf-idf Scores\n",
            "\n",
            "policy         0.292382\n",
            "export         0.229180\n",
            "trade          0.216347\n",
            "maidan         0.184744\n",
            "entitlement    0.143509\n",
            "Name: 1040901_business_story_3700827.utf8, dtype: float64 \n",
            "\n",
            "\n",
            "3 document's top 5 words and their tf-idf score are as follows\n",
            "\n",
            "\n",
            "Words  |  Tf-idf Scores\n",
            "\n",
            "patni     0.448705\n",
            "centre    0.312209\n",
            "anna      0.208451\n",
            "salai     0.208451\n",
            "patnis    0.197759\n",
            "Name: 1040901_business_story_3701515.utf8, dtype: float64 \n",
            "\n",
            "\n",
            "4 document's top 5 words and their tf-idf score are as follows\n",
            "\n",
            "\n",
            "Words  |  Tf-idf Scores\n",
            "\n",
            "bharat        0.437181\n",
            "petro         0.347059\n",
            "kochi         0.233013\n",
            "refineries    0.215340\n",
            "behuria       0.211498\n",
            "Name: 1040901_business_story_3701518.utf8, dtype: float64 \n",
            "\n",
            "\n",
            "5 document's top 5 words and their tf-idf score are as follows\n",
            "\n",
            "\n",
            "Words  |  Tf-idf Scores\n",
            "\n",
            "uti      0.481050\n",
            "mip      0.263727\n",
            "hdfc     0.233236\n",
            "plus     0.209197\n",
            "icici    0.194054\n",
            "Name: 1040901_business_story_3701887.utf8, dtype: float64 \n",
            "\n",
            "\n"
          ],
          "name": "stdout"
        }
      ]
    },
    {
      "cell_type": "markdown",
      "metadata": {
        "id": "VHHtHzoNzAKx"
      },
      "source": [
        "\r\n",
        "\r\n",
        "---\r\n",
        "\r\n"
      ]
    },
    {
      "cell_type": "markdown",
      "metadata": {
        "id": "d9fGHaGLllSN"
      },
      "source": [
        "# **Using Tf-Idf classic manual approach**"
      ]
    },
    {
      "cell_type": "markdown",
      "metadata": {
        "id": "poKcqikmht7z"
      },
      "source": [
        "**Class Definition and its functions**"
      ]
    },
    {
      "cell_type": "code",
      "metadata": {
        "id": "Qn7ngH54rcS7"
      },
      "source": [
        "class tf_idf_matrix:\r\n",
        "  \r\n",
        "  # Constructor - intialize members of class\r\n",
        "\r\n",
        "  def __init__(self,corpus,files):\r\n",
        "    self.corpus = corpus            # corpus data\r\n",
        "    self.set_tokens = set()         # will be filled with unique terms includinf all documents in corpus\r\n",
        "\r\n",
        "    for i in self.corpus:\r\n",
        "      self.set_tokens.update(i.split())         # storing unique terms - tokens in \"set_tokens\" member of class\r\n",
        "\r\n",
        "    self.files = files  # storing file names \r\n",
        "    self.tf = np.zeros((len(self.corpus),len(self.set_tokens)))             # \"tf\" is term frequency matrix\r\n",
        "    self.tf_idf =  np.zeros((len(self.corpus),len(self.set_tokens)))        # \"tf_idf\" is term-document\" matrix\r\n",
        "    self.idf_t =  np.zeros(len(self.set_tokens))                             # \"idf_t\" stores inverse document frequency for each term\r\n",
        "  \r\n",
        "  def transform(self,doc_no):\r\n",
        "    return obj.tf_idf[sorted(self.files).index(doc_no)][:]  # return document tf_idf vector having scores for all terms\r\n",
        "    \r\n",
        "\r\n",
        "    \r\n",
        "  def fit(self):\r\n",
        "\r\n",
        "    # defining some local variables\r\n",
        "\r\n",
        "    tf =  np.zeros((len(self.corpus),len(self.set_tokens)))\r\n",
        "    corpus = self.corpus\r\n",
        "    set_tokens = self.set_tokens\r\n",
        "    lst = list(set_tokens)\r\n",
        "\r\n",
        "\r\n",
        "    #tf matrix calculation\r\n",
        "\r\n",
        "    for i in range(len(corpus)):\r\n",
        "      for j in range(len(lst)):\r\n",
        "          tf[i][j] = (corpus[i]).count(lst[j])\r\n",
        "\r\n",
        "      tf[i][:] = np.divide((tf[i][:]),len(corpus[i]))\r\n",
        "\r\n",
        "    \r\n",
        "\r\n",
        "    #idf_t vector calculation\r\n",
        "\r\n",
        "    df_t =  np.zeros(len(lst))  # document freq for each term\r\n",
        "    idf_t =  np.zeros(len(lst)) # store inverse document frequency for each term\r\n",
        "\r\n",
        "    for i in range(len(lst)):\r\n",
        "      for j in range(len(corpus)):\r\n",
        "        if lst[i] in corpus[j]:\r\n",
        "          df_t[i] = df_t[i] +  1\r\n",
        "\r\n",
        "      idf_t[i] = math.log(len(corpus)/df_t[i])\r\n",
        "\r\n",
        "\r\n",
        "\r\n",
        "    #tf_idf matrix computation\r\n",
        "\r\n",
        "    tf_idf = np.zeros((len(corpus),len(lst))) \r\n",
        "\r\n",
        "    for i in range(len(corpus)):\r\n",
        "      tf_idf[i][:] = [a*b for a,b in zip(tf[i][:],idf_t[:])]\r\n",
        "\r\n",
        "\r\n",
        "    # storing values into member variables\r\n",
        "\r\n",
        "    self.tf_idf = tf_idf     \r\n",
        "    self.idf_t = idf_t\r\n",
        "    self.tf = tf\r\n"
      ],
      "execution_count": 15,
      "outputs": []
    },
    {
      "cell_type": "markdown",
      "metadata": {
        "id": "sJmoINuxh3-w"
      },
      "source": [
        "Creating object of class"
      ]
    },
    {
      "cell_type": "code",
      "metadata": {
        "id": "hUnU8Y213IqN"
      },
      "source": [
        "obj = tf_idf_matrix(corpus,files)   #class object creation"
      ],
      "execution_count": 16,
      "outputs": []
    },
    {
      "cell_type": "markdown",
      "metadata": {
        "id": "LSi_8-C4h8PA"
      },
      "source": [
        "**Calling Fit method**"
      ]
    },
    {
      "cell_type": "code",
      "metadata": {
        "id": "HB2W9VbgcwW8"
      },
      "source": [
        "obj.fit()   # fitting the data for tf-idf matrix formation"
      ],
      "execution_count": 17,
      "outputs": []
    },
    {
      "cell_type": "code",
      "metadata": {
        "id": "iYFzieCNTZOm",
        "colab": {
          "base_uri": "https://localhost:8080/"
        },
        "outputId": "27b8f6ca-3f35-4160-e679-30acaa080646"
      },
      "source": [
        "obj.idf_t   # printing idf_t vector"
      ],
      "execution_count": 18,
      "outputs": [
        {
          "output_type": "execute_result",
          "data": {
            "text/plain": [
              "array([1.16817847, 6.90475077, 6.90475077, ..., 0.68714716, 7.59789795,\n",
              "       7.59789795])"
            ]
          },
          "metadata": {
            "tags": []
          },
          "execution_count": 18
        }
      ]
    },
    {
      "cell_type": "markdown",
      "metadata": {
        "id": "ZVv0EllR2oxD"
      },
      "source": [
        "**Calling Transform Method for Document \"*1040901_business_story_3700171.utf8*\"**"
      ]
    },
    {
      "cell_type": "code",
      "metadata": {
        "colab": {
          "base_uri": "https://localhost:8080/"
        },
        "id": "zMYqx5542ntp",
        "outputId": "16aad825-f533-4a6c-dd87-2fb37d29e92a"
      },
      "source": [
        "print(\"Term-document vector for particular doc no:\\n\",obj.transform(\"1040901_business_story_3700171.utf8\"))"
      ],
      "execution_count": 19,
      "outputs": [
        {
          "output_type": "stream",
          "text": [
            "Term-document vector for particular doc no:\n",
            " [0.00188112 0.         0.         ... 0.00073768 0.         0.        ]\n"
          ],
          "name": "stdout"
        }
      ]
    },
    {
      "cell_type": "code",
      "metadata": {
        "cellView": "form",
        "id": "t88tUG3a7CTa"
      },
      "source": [
        "#@title\n",
        "#p = sorted(obj.transform(\"1040901_business_story_3700171.utf8\"),reverse = True)\n",
        "#t = np.argsort(p)\n",
        "#=0\n",
        "#for i in t:\n",
        "#  print(list(obj.set_tokens)[i],\"--\",p[j])\n",
        "#  j += 1"
      ],
      "execution_count": 20,
      "outputs": []
    },
    {
      "cell_type": "markdown",
      "metadata": {
        "id": "fmZgDA0ziWIR"
      },
      "source": [
        "# **Shape of Term-Document Matrix formed using Classic Manual approach**"
      ]
    },
    {
      "cell_type": "code",
      "metadata": {
        "colab": {
          "base_uri": "https://localhost:8080/"
        },
        "id": "HGBeTQUcFV-0",
        "outputId": "5105ad79-b827-4a76-d099-ccd5ee8e64f3"
      },
      "source": [
        "print(\"Shape of Term-Document Matrix formed is : \", np.shape(obj.tf_idf))"
      ],
      "execution_count": 21,
      "outputs": [
        {
          "output_type": "stream",
          "text": [
            "Shape of Term-Document Matrix formed is :  (1994, 20062)\n"
          ],
          "name": "stdout"
        }
      ]
    },
    {
      "cell_type": "markdown",
      "metadata": {
        "id": "PebEPMzhi6Gr"
      },
      "source": [
        "# **Q4 - First 5 documents TOP 5 terms and their tf-idf scores obtained using classic manual approach**"
      ]
    },
    {
      "cell_type": "code",
      "metadata": {
        "colab": {
          "base_uri": "https://localhost:8080/"
        },
        "id": "cff8t6P9lcJg",
        "outputId": "28c47dee-5f3e-473c-b17f-bdba2b2ad708"
      },
      "source": [
        "for i in range(5):\r\n",
        "    top_5 = np.argsort(obj.tf_idf[i][:])[-5:]\r\n",
        "    print(str(i+1) + \" document's top 5 words and their tf-idf score are as follows\\n\")\r\n",
        "    print(sorted(obj.tf_idf[i][:], reverse= True)[:5])\r\n",
        "    print(\"\\nWords    |     Tf-idf Scores\\n\")\r\n",
        "    print(list(obj.set_tokens)[top_5[4]],\"------\",obj.tf_idf[i][top_5[4]])\r\n",
        "    print(list(obj.set_tokens)[top_5[3]],\"------\",obj.tf_idf[i][top_5[3]])\r\n",
        "    print(list(obj.set_tokens)[top_5[2]],\"------\",obj.tf_idf[i][top_5[2]])\r\n",
        "    print(list(obj.set_tokens)[top_5[1]],\"------\",obj.tf_idf[i][top_5[1]])\r\n",
        "    print(list(obj.set_tokens)[top_5[0]],\"------\",obj.tf_idf[i][top_5[0]])\r\n",
        "    print(\"\\n\")"
      ],
      "execution_count": 22,
      "outputs": [
        {
          "output_type": "stream",
          "text": [
            "1 document's top 5 words and their tf-idf score are as follows\n",
            "\n",
            "[0.006977225616590095, 0.006668388179712177, 0.006428835252912167, 0.006254953114037803, 0.005967918924977709]\n",
            "\n",
            "Words    |     Tf-idf Scores\n",
            "\n",
            "kanoria ------ 0.006977225616590095\n",
            "hikal ------ 0.006668388179712177\n",
            "library ------ 0.006428835252912167\n",
            "consolidation ------ 0.006254953114037803\n",
            "idbi ------ 0.005967918924977709\n",
            "\n",
            "\n",
            "2 document's top 5 words and their tf-idf score are as follows\n",
            "\n",
            "[0.007921357912634848, 0.007793657170012391, 0.007325242948823728, 0.006699305404232055, 0.006699305404232055]\n",
            "\n",
            "Words    |     Tf-idf Scores\n",
            "\n",
            "export ------ 0.007921357912634848\n",
            "policy ------ 0.007793657170012391\n",
            "expo ------ 0.007325242948823728\n",
            "pragati ------ 0.006699305404232055\n",
            "maidan ------ 0.006699305404232055\n",
            "\n",
            "\n",
            "3 document's top 5 words and their tf-idf score are as follows\n",
            "\n",
            "[0.02930278973976647, 0.011241088463507297, 0.010955873036080437, 0.009956381787976695, 0.00851457040041009]\n",
            "\n",
            "Words    |     Tf-idf Scores\n",
            "\n",
            "patni ------ 0.02930278973976647\n",
            "centre ------ 0.011241088463507297\n",
            "salai ------ 0.010955873036080437\n",
            "patnis ------ 0.009956381787976695\n",
            "pat ------ 0.00851457040041009\n",
            "\n",
            "\n",
            "4 document's top 5 words and their tf-idf score are as follows\n",
            "\n",
            "[0.016026472151508556, 0.012613848931302617, 0.012425421516717168, 0.010716509877836133, 0.009364986372211552]\n",
            "\n",
            "Words    |     Tf-idf Scores\n",
            "\n",
            "bharat ------ 0.016026472151508556\n",
            "behuria ------ 0.012613848931302617\n",
            "petro ------ 0.012425421516717168\n",
            "refine ------ 0.010716509877836133\n",
            "kochi ------ 0.009364986372211552\n",
            "\n",
            "\n",
            "5 document's top 5 words and their tf-idf score are as follows\n",
            "\n",
            "[0.01487278288994239, 0.010077653977387992, 0.009473888247617095, 0.008675685541066885, 0.008220870786912653]\n",
            "\n",
            "Words    |     Tf-idf Scores\n",
            "\n",
            "mip ------ 0.01487278288994239\n",
            "hdfc ------ 0.010077653977387992\n",
            "pru ------ 0.009473888247617095\n",
            "prud ------ 0.008675685541066885\n",
            "icici ------ 0.008220870786912653\n",
            "\n",
            "\n"
          ],
          "name": "stdout"
        }
      ]
    }
  ]
}
